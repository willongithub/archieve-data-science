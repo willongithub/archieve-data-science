{
    "cells": [
        {
            "cell_type": "markdown",
            "source": [
                "# **Pattern Recognition and Machine Learning**\r\n",
                ">Week 5 Tutorial"
            ],
            "metadata": {}
        },
        {
            "cell_type": "markdown",
            "source": [
                "## Tutorial 1 - Weather Forcasting"
            ],
            "metadata": {}
        },
        {
            "cell_type": "markdown",
            "source": [
                "## 1 Dummy Dataset"
            ],
            "metadata": {}
        },
        {
            "cell_type": "code",
            "execution_count": 1,
            "source": [
                "weather = ['Sunny','Sunny','Overcast','Rainy','Rainy','Rainy','Overcast',\r\n",
                "           'Sunny','Sunny','Rainy','Sunny','Overcast','Overcast','Rainy']\r\n",
                "temp = ['Hot','Hot','Hot','Mild','Cool','Cool','Cool','Mild','Cool','Mild',\r\n",
                "        'Mild','Mild','Hot','Mild']\r\n",
                "humid = ['high','high','high','high','normal','normal','normal','high',\r\n",
                "         'normal','normal','normal','high','normal','high']\r\n",
                "windy = [False,True,False,False,False,True,True,False,False,False,True,\r\n",
                "         True,False,True]\r\n",
                "\r\n",
                "play = ['No','No','Yes','Yes','Yes','No','Yes','No','Yes','Yes','Yes','Yes',\r\n",
                "        'Yes','No']"
            ],
            "outputs": [],
            "metadata": {}
        },
        {
            "cell_type": "markdown",
            "source": [
                "## 2 Weather Forcasting using Naive Bayes\r\n",
                "2.1 Covert categorical data to numeric data"
            ],
            "metadata": {}
        },
        {
            "cell_type": "code",
            "execution_count": 6,
            "source": [
                "from sklearn import preprocessing\r\n",
                "le = preprocessing.LabelEncoder()\r\n",
                "\r\n",
                "# Convert string variables to numerical levels\r\n",
                "weather_encoded = le.fit_transform(weather)\r\n",
                "temp_encoded = le.fit_transform(temp)\r\n",
                "humid_encoded = le.fit_transform(humid)\r\n",
                "windy_encoded = le.fit_transform(windy)\r\n",
                "play_encoded = le.fit_transform(play)"
            ],
            "outputs": [],
            "metadata": {}
        },
        {
            "cell_type": "markdown",
            "source": [
                "2.2 Extracting features and labels"
            ],
            "metadata": {}
        },
        {
            "cell_type": "code",
            "execution_count": 44,
            "source": [
                "X = list(zip(weather_encoded,temp_encoded,humid_encoded,windy_encoded))\r\n",
                "y = play_encoded\r\n",
                "\r\n",
                "print(X)"
            ],
            "outputs": [
                {
                    "output_type": "stream",
                    "name": "stdout",
                    "text": [
                        "[(2, 1, 0, 0), (2, 1, 0, 1), (0, 1, 0, 0), (1, 2, 0, 0), (1, 0, 1, 0), (1, 0, 1, 1), (0, 0, 1, 1), (2, 2, 0, 0), (2, 0, 1, 0), (1, 2, 1, 0), (2, 2, 1, 1), (0, 2, 0, 1), (0, 1, 1, 0), (1, 2, 0, 1)]\n"
                    ]
                }
            ],
            "metadata": {}
        },
        {
            "cell_type": "markdown",
            "source": [
                "2.3 Spliting data into train/test sets"
            ],
            "metadata": {}
        },
        {
            "cell_type": "code",
            "execution_count": 548,
            "source": [
                "from sklearn.model_selection import train_test_split"
            ],
            "outputs": [],
            "metadata": {}
        },
        {
            "cell_type": "code",
            "execution_count": 966,
            "source": [
                "# Split dataset\r\n",
                "X_train, X_test, y_train, y_test = train_test_split(X, y,\r\n",
                "                                                    test_size=0.3,\r\n",
                "                                                    random_state=11)"
            ],
            "outputs": [],
            "metadata": {}
        },
        {
            "cell_type": "markdown",
            "source": [
                "2.4 Generate model - Gaussian Naive Bayes"
            ],
            "metadata": {}
        },
        {
            "cell_type": "code",
            "execution_count": 977,
            "source": [
                "from sklearn.naive_bayes import GaussianNB\r\n",
                "\r\n",
                "# Create Gaussian classifier\r\n",
                "md = GaussianNB()"
            ],
            "outputs": [],
            "metadata": {}
        },
        {
            "cell_type": "code",
            "execution_count": 988,
            "source": [
                "# Train the model\r\n",
                "md.fit(X_train, y_train)"
            ],
            "outputs": [
                {
                    "output_type": "execute_result",
                    "data": {
                        "text/plain": [
                            "GaussianNB()"
                        ]
                    },
                    "metadata": {},
                    "execution_count": 988
                }
            ],
            "metadata": {}
        },
        {
            "cell_type": "code",
            "execution_count": 999,
            "source": [
                "result = md.predict(X_test)\r\n",
                "print(f\"Model predicts: {result}\")"
            ],
            "outputs": [
                {
                    "output_type": "stream",
                    "name": "stdout",
                    "text": [
                        "Model predicts: [1 0 1 1 1]\n"
                    ]
                }
            ],
            "metadata": {}
        },
        {
            "cell_type": "markdown",
            "source": [
                "2.5 Evaluate model"
            ],
            "metadata": {}
        },
        {
            "cell_type": "code",
            "execution_count": 75,
            "source": [
                "from sklearn import metrics\r\n",
                "from sklearn.metrics import classification_report"
            ],
            "outputs": [],
            "metadata": {}
        },
        {
            "cell_type": "code",
            "execution_count": 1010,
            "source": [
                "# Calculate metrics from the predictions\r\n",
                "print(\"Accuracy:\",metrics.accuracy_score(y_test, result))\r\n",
                "print(\"Precision:\",metrics.precision_score(y_test, result, average = 'weighted'))\r\n",
                "print(\"Recall:\",metrics.recall_score(y_test, result, average = 'weighted'))\r\n",
                "print(\"F1-score:\",metrics.f1_score(y_test, result, average = 'weighted'))"
            ],
            "outputs": [
                {
                    "output_type": "stream",
                    "name": "stdout",
                    "text": [
                        "Accuracy: 0.6\n",
                        "Precision: 0.6\n",
                        "Recall: 0.6\n",
                        "F1-score: 0.6\n"
                    ]
                }
            ],
            "metadata": {}
        },
        {
            "cell_type": "code",
            "execution_count": 1021,
            "source": [
                "# Compute the confusion metrix\r\n",
                "metrics.confusion_matrix(y_test, result)"
            ],
            "outputs": [
                {
                    "output_type": "execute_result",
                    "data": {
                        "text/plain": [
                            "array([[0, 1],\n",
                            "       [1, 3]], dtype=int64)"
                        ]
                    },
                    "metadata": {},
                    "execution_count": 1021
                }
            ],
            "metadata": {}
        },
        {
            "cell_type": "markdown",
            "source": [
                "2.6 Generate model - Multinominal Naive Bayes"
            ],
            "metadata": {}
        },
        {
            "cell_type": "code",
            "execution_count": 1032,
            "source": [
                "from sklearn.naive_bayes import MultinomialNB\r\n",
                "\r\n",
                "# Create Gaussian classifier\r\n",
                "mn = MultinomialNB()"
            ],
            "outputs": [],
            "metadata": {}
        },
        {
            "cell_type": "code",
            "execution_count": 1043,
            "source": [
                "# Train the model\r\n",
                "mn.fit(X_train, y_train)"
            ],
            "outputs": [
                {
                    "output_type": "execute_result",
                    "data": {
                        "text/plain": [
                            "MultinomialNB()"
                        ]
                    },
                    "metadata": {},
                    "execution_count": 1043
                }
            ],
            "metadata": {}
        },
        {
            "cell_type": "code",
            "execution_count": 1054,
            "source": [
                "# Predict the result\r\n",
                "result = mn.predict(X_test)\r\n",
                "print(f\"Model predicts: {result}\")"
            ],
            "outputs": [
                {
                    "output_type": "stream",
                    "name": "stdout",
                    "text": [
                        "Model predicts: [1 0 1 1 1]\n"
                    ]
                }
            ],
            "metadata": {}
        },
        {
            "cell_type": "code",
            "execution_count": 1065,
            "source": [
                "# Calculate metrics from the predictions\r\n",
                "print(\"Accuracy:\",metrics.accuracy_score(y_test, result))\r\n",
                "print(\"Precision:\",metrics.precision_score(y_test, result, average = 'weighted'))\r\n",
                "print(\"Recall:\",metrics.recall_score(y_test, result, average = 'weighted'))\r\n",
                "print(\"F1-score:\",metrics.f1_score(y_test, result, average = 'weighted'))"
            ],
            "outputs": [
                {
                    "output_type": "stream",
                    "name": "stdout",
                    "text": [
                        "Accuracy: 0.6\n",
                        "Precision: 0.6\n",
                        "Recall: 0.6\n",
                        "F1-score: 0.6\n"
                    ]
                }
            ],
            "metadata": {}
        },
        {
            "cell_type": "code",
            "execution_count": 1076,
            "source": [
                "# Compute the confusion metrix\r\n",
                "metrics.confusion_matrix(y_test, result)"
            ],
            "outputs": [
                {
                    "output_type": "execute_result",
                    "data": {
                        "text/plain": [
                            "array([[0, 1],\n",
                            "       [1, 3]], dtype=int64)"
                        ]
                    },
                    "metadata": {},
                    "execution_count": 1076
                }
            ],
            "metadata": {}
        },
        {
            "cell_type": "markdown",
            "source": [
                "## Tutorial 2 - Spam Detection"
            ],
            "metadata": {}
        },
        {
            "cell_type": "markdown",
            "source": [
                "## 1 Load dataset"
            ],
            "metadata": {}
        },
        {
            "cell_type": "code",
            "execution_count": 1780,
            "source": [
                "import pandas as pd\r\n",
                "\r\n",
                "spam_data = pd.read_csv(\"data/spam.csv\")"
            ],
            "outputs": [],
            "metadata": {}
        },
        {
            "cell_type": "markdown",
            "source": [
                "## 2 Data exploration"
            ],
            "metadata": {}
        },
        {
            "cell_type": "code",
            "execution_count": 1802,
            "source": [
                "spam_data = spam_data.iloc[:, 0:2]"
            ],
            "outputs": [],
            "metadata": {}
        },
        {
            "cell_type": "code",
            "execution_count": 1824,
            "source": [
                "spam_data.info()"
            ],
            "outputs": [
                {
                    "output_type": "stream",
                    "name": "stdout",
                    "text": [
                        "<class 'pandas.core.frame.DataFrame'>\n",
                        "RangeIndex: 5574 entries, 0 to 5573\n",
                        "Data columns (total 2 columns):\n",
                        " #   Column     Non-Null Count  Dtype \n",
                        "---  ------     --------------  ----- \n",
                        " 0   Label      5574 non-null   object\n",
                        " 1   EmailText  5573 non-null   object\n",
                        "dtypes: object(2)\n",
                        "memory usage: 87.2+ KB\n"
                    ]
                }
            ],
            "metadata": {}
        },
        {
            "cell_type": "code",
            "execution_count": 1835,
            "source": [
                "spam_data.head(5)"
            ],
            "outputs": [
                {
                    "output_type": "execute_result",
                    "data": {
                        "text/html": [
                            "<div>\n",
                            "<style scoped>\n",
                            "    .dataframe tbody tr th:only-of-type {\n",
                            "        vertical-align: middle;\n",
                            "    }\n",
                            "\n",
                            "    .dataframe tbody tr th {\n",
                            "        vertical-align: top;\n",
                            "    }\n",
                            "\n",
                            "    .dataframe thead th {\n",
                            "        text-align: right;\n",
                            "    }\n",
                            "</style>\n",
                            "<table border=\"1\" class=\"dataframe\">\n",
                            "  <thead>\n",
                            "    <tr style=\"text-align: right;\">\n",
                            "      <th></th>\n",
                            "      <th>Label</th>\n",
                            "      <th>EmailText</th>\n",
                            "    </tr>\n",
                            "  </thead>\n",
                            "  <tbody>\n",
                            "    <tr>\n",
                            "      <th>0</th>\n",
                            "      <td>ham</td>\n",
                            "      <td>Go until jurong point, crazy.. Available only ...</td>\n",
                            "    </tr>\n",
                            "    <tr>\n",
                            "      <th>1</th>\n",
                            "      <td>ham</td>\n",
                            "      <td>Ok lar... Joking wif u oni...</td>\n",
                            "    </tr>\n",
                            "    <tr>\n",
                            "      <th>2</th>\n",
                            "      <td>spam</td>\n",
                            "      <td>Free entry in 2 a wkly comp to win FA Cup fina...</td>\n",
                            "    </tr>\n",
                            "    <tr>\n",
                            "      <th>3</th>\n",
                            "      <td>ham</td>\n",
                            "      <td>U dun say so early hor... U c already then say...</td>\n",
                            "    </tr>\n",
                            "    <tr>\n",
                            "      <th>4</th>\n",
                            "      <td>ham</td>\n",
                            "      <td>Nah I don't think he goes to usf, he lives aro...</td>\n",
                            "    </tr>\n",
                            "  </tbody>\n",
                            "</table>\n",
                            "</div>"
                        ],
                        "text/plain": [
                            "  Label                                          EmailText\n",
                            "0   ham  Go until jurong point, crazy.. Available only ...\n",
                            "1   ham                      Ok lar... Joking wif u oni...\n",
                            "2  spam  Free entry in 2 a wkly comp to win FA Cup fina...\n",
                            "3   ham  U dun say so early hor... U c already then say...\n",
                            "4   ham  Nah I don't think he goes to usf, he lives aro..."
                        ]
                    },
                    "metadata": {},
                    "execution_count": 1835
                }
            ],
            "metadata": {}
        },
        {
            "cell_type": "code",
            "execution_count": 1846,
            "source": [
                "spam_data['Label'].value_counts()"
            ],
            "outputs": [
                {
                    "output_type": "execute_result",
                    "data": {
                        "text/plain": [
                            "ham     4827\n",
                            "spam     747\n",
                            "Name: Label, dtype: int64"
                        ]
                    },
                    "metadata": {},
                    "execution_count": 1846
                }
            ],
            "metadata": {}
        },
        {
            "cell_type": "code",
            "execution_count": 1857,
            "source": [
                "spam_data.groupby('Label').describe()"
            ],
            "outputs": [
                {
                    "output_type": "execute_result",
                    "data": {
                        "text/html": [
                            "<div>\n",
                            "<style scoped>\n",
                            "    .dataframe tbody tr th:only-of-type {\n",
                            "        vertical-align: middle;\n",
                            "    }\n",
                            "\n",
                            "    .dataframe tbody tr th {\n",
                            "        vertical-align: top;\n",
                            "    }\n",
                            "\n",
                            "    .dataframe thead tr th {\n",
                            "        text-align: left;\n",
                            "    }\n",
                            "\n",
                            "    .dataframe thead tr:last-of-type th {\n",
                            "        text-align: right;\n",
                            "    }\n",
                            "</style>\n",
                            "<table border=\"1\" class=\"dataframe\">\n",
                            "  <thead>\n",
                            "    <tr>\n",
                            "      <th></th>\n",
                            "      <th colspan=\"4\" halign=\"left\">EmailText</th>\n",
                            "    </tr>\n",
                            "    <tr>\n",
                            "      <th></th>\n",
                            "      <th>count</th>\n",
                            "      <th>unique</th>\n",
                            "      <th>top</th>\n",
                            "      <th>freq</th>\n",
                            "    </tr>\n",
                            "    <tr>\n",
                            "      <th>Label</th>\n",
                            "      <th></th>\n",
                            "      <th></th>\n",
                            "      <th></th>\n",
                            "      <th></th>\n",
                            "    </tr>\n",
                            "  </thead>\n",
                            "  <tbody>\n",
                            "    <tr>\n",
                            "      <th>ham</th>\n",
                            "      <td>4826</td>\n",
                            "      <td>4517</td>\n",
                            "      <td>Sorry, I'll call later</td>\n",
                            "      <td>30</td>\n",
                            "    </tr>\n",
                            "    <tr>\n",
                            "      <th>spam</th>\n",
                            "      <td>747</td>\n",
                            "      <td>647</td>\n",
                            "      <td>Please call our customer service representativ...</td>\n",
                            "      <td>4</td>\n",
                            "    </tr>\n",
                            "  </tbody>\n",
                            "</table>\n",
                            "</div>"
                        ],
                        "text/plain": [
                            "      EmailText                                                               \n",
                            "          count unique                                                top freq\n",
                            "Label                                                                         \n",
                            "ham        4826   4517                             Sorry, I'll call later   30\n",
                            "spam        747    647  Please call our customer service representativ...    4"
                        ]
                    },
                    "metadata": {},
                    "execution_count": 1857
                }
            ],
            "metadata": {}
        },
        {
            "cell_type": "markdown",
            "source": [
                "## 2 Feature extration"
            ],
            "metadata": {}
        },
        {
            "cell_type": "code",
            "execution_count": 1442,
            "source": [
                "from sklearn.feature_extraction.text import CountVectorizer"
            ],
            "outputs": [],
            "metadata": {}
        },
        {
            "cell_type": "code",
            "execution_count": 1868,
            "source": [
                "# A sample\r\n",
                "sample = [spam_data['EmailText'][81]]\r\n",
                "\r\n",
                "type(sample)\r\n",
                "print(sample)"
            ],
            "outputs": [
                {
                    "output_type": "stream",
                    "name": "stdout",
                    "text": [
                        "['K. Did you call me just now ah?']\n"
                    ]
                }
            ],
            "metadata": {}
        },
        {
            "cell_type": "code",
            "execution_count": 1879,
            "source": [
                "cv = CountVectorizer()\r\n",
                "cv.fit_transform(sample)\r\n",
                "cv.vocabulary_"
            ],
            "outputs": [
                {
                    "output_type": "execute_result",
                    "data": {
                        "text/plain": [
                            "{'did': 2, 'you': 6, 'call': 1, 'me': 4, 'just': 3, 'now': 5, 'ah': 0}"
                        ]
                    },
                    "metadata": {},
                    "execution_count": 1879
                }
            ],
            "metadata": {}
        },
        {
            "cell_type": "markdown",
            "source": [],
            "metadata": {}
        },
        {
            "cell_type": "markdown",
            "source": [
                "## 3 Build multinominal naive bayes model"
            ],
            "metadata": {}
        },
        {
            "cell_type": "code",
            "execution_count": 1934,
            "source": [
                "spam_data['EmailText'].describe()"
            ],
            "outputs": [
                {
                    "output_type": "execute_result",
                    "data": {
                        "text/plain": [
                            "count                       5573\n",
                            "unique                      5164\n",
                            "top       Sorry, I'll call later\n",
                            "freq                          30\n",
                            "Name: EmailText, dtype: object"
                        ]
                    },
                    "metadata": {},
                    "execution_count": 1934
                }
            ],
            "metadata": {}
        },
        {
            "cell_type": "code",
            "execution_count": 1967,
            "source": [
                "spam_text = spam_data['EmailText'].values.astype('unicode')"
            ],
            "outputs": [],
            "metadata": {}
        },
        {
            "cell_type": "code",
            "execution_count": 2003,
            "source": [
                "# Get the features\r\n",
                "X = cv.fit_transform(spam_text)\r\n",
                "\r\n",
                "# Get the targets\r\n",
                "y = spam_data['Label']\r\n",
                "\r\n",
                "# print(cv.vocabulary_)"
            ],
            "outputs": [],
            "metadata": {}
        },
        {
            "cell_type": "code",
            "execution_count": 2027,
            "source": [
                "X.shape"
            ],
            "outputs": [
                {
                    "output_type": "execute_result",
                    "data": {
                        "text/plain": [
                            "(5574, 8625)"
                        ]
                    },
                    "metadata": {},
                    "execution_count": 2027
                }
            ],
            "metadata": {}
        },
        {
            "cell_type": "code",
            "execution_count": 2039,
            "source": [
                "y.shape"
            ],
            "outputs": [
                {
                    "output_type": "execute_result",
                    "data": {
                        "text/plain": [
                            "(5574,)"
                        ]
                    },
                    "metadata": {},
                    "execution_count": 2039
                }
            ],
            "metadata": {}
        },
        {
            "cell_type": "code",
            "execution_count": 2051,
            "source": [
                "from sklearn.model_selection import train_test_split\r\n",
                "\r\n",
                "X_train, X_test, y_train, y_test = train_test_split(X, y,\r\n",
                "                                                    test_size=0.2,\r\n",
                "                                                    random_state=111)"
            ],
            "outputs": [],
            "metadata": {}
        },
        {
            "cell_type": "code",
            "execution_count": 2063,
            "source": [
                "from sklearn.naive_bayes import MultinomialNB\r\n",
                "\r\n",
                "mn = MultinomialNB()"
            ],
            "outputs": [],
            "metadata": {}
        },
        {
            "cell_type": "code",
            "execution_count": 2075,
            "source": [
                "mn.fit(X_train, y_train)"
            ],
            "outputs": [
                {
                    "output_type": "execute_result",
                    "data": {
                        "text/plain": [
                            "MultinomialNB()"
                        ]
                    },
                    "metadata": {},
                    "execution_count": 2075
                }
            ],
            "metadata": {}
        },
        {
            "cell_type": "markdown",
            "source": [
                "## 4 Make prediction"
            ],
            "metadata": {}
        },
        {
            "cell_type": "code",
            "execution_count": 2087,
            "source": [
                "result = mn.predict(X_test)"
            ],
            "outputs": [],
            "metadata": {}
        },
        {
            "cell_type": "markdown",
            "source": [
                "## 5 Evaluation"
            ],
            "metadata": {}
        },
        {
            "cell_type": "code",
            "execution_count": 2099,
            "source": [
                "score = mn.score(X_train, y_train)\r\n",
                "print(f\"Score of this model: {score}\")"
            ],
            "outputs": [
                {
                    "output_type": "stream",
                    "name": "stdout",
                    "text": [
                        "Score of this model: 0.9939448306795245\n"
                    ]
                }
            ],
            "metadata": {}
        },
        {
            "cell_type": "code",
            "execution_count": 2111,
            "source": [
                "# Compute the confusion metrix\r\n",
                "metrics.confusion_matrix(y_test, result)"
            ],
            "outputs": [
                {
                    "output_type": "execute_result",
                    "data": {
                        "text/plain": [
                            "array([[961,  10],\n",
                            "       [  7, 137]], dtype=int64)"
                        ]
                    },
                    "metadata": {},
                    "execution_count": 2111
                }
            ],
            "metadata": {}
        },
        {
            "cell_type": "markdown",
            "source": [
                "## 6 Display misclassified messages"
            ],
            "metadata": {}
        },
        {
            "cell_type": "code",
            "execution_count": 2123,
            "source": [
                "index = 0\r\n",
                "misclassifiedIndexes = []\r\n",
                "for label, predict in zip(y_test, result):\r\n",
                "    if label != predict: \r\n",
                "        misclassifiedIndexes.append(index)\r\n",
                "    index +=1\r\n",
                "\r\n",
                "misclassifiedEmailText = []\r\n",
                "for badIndex in misclassifiedIndexes:\r\n",
                "    misclassifiedEmailText.append([result[badIndex],\r\n",
                "                                  spam_data['EmailText'][badIndex]])"
            ],
            "outputs": [],
            "metadata": {}
        },
        {
            "cell_type": "code",
            "execution_count": 2135,
            "source": [
                "print(pd.DataFrame(misclassifiedEmailText,\r\n",
                "      columns=['Wrong Label', 'Email Text']))"
            ],
            "outputs": [
                {
                    "output_type": "stream",
                    "name": "stdout",
                    "text": [
                        "   Wrong Label                                         Email Text\n",
                        "0         spam                               U can call me now...\n",
                        "1          ham  Sorry to be a pain. Is it ok if we meet anothe...\n",
                        "2         spam                  Watching telugu movie..wat abt u?\n",
                        "3         spam  Update_Now - Xmas Offer! Latest Motorola, Sony...\n",
                        "4         spam  Loan for any purpose �500 - �75,000. Homeowner...\n",
                        "5         spam  Sorry man my account's dry or I would, if you ...\n",
                        "6          ham  Maybe westshore or hyde park village, the plac...\n",
                        "7         spam  It's fine, imma get a drink or somethin. Want ...\n",
                        "8         spam  Its a valentine game. . . Send dis msg to all ...\n",
                        "9          ham  <Forwarded from 448712404000>Please CALL 08712...\n",
                        "10         ham  You have an important customer service announc...\n",
                        "11        spam  Thanks for yesterday sir. You have been wonder...\n",
                        "12        spam                           Gibbs unsold.mike hussey\n",
                        "13         ham  I am not sure about night menu. . . I know onl...\n",
                        "14         ham              Yup i thk so until e shop closes lor.\n",
                        "15        spam                       Yes da. Any plm at ur office\n",
                        "16         ham  We have new local dates in your area - Lots of...\n"
                    ]
                }
            ],
            "metadata": {}
        }
    ],
    "metadata": {
        "orig_nbformat": 4,
        "language_info": {
            "name": "python",
            "version": "3.9.7",
            "mimetype": "text/x-python",
            "codemirror_mode": {
                "name": "ipython",
                "version": 3
            },
            "pygments_lexer": "ipython3",
            "nbconvert_exporter": "python",
            "file_extension": ".py"
        },
        "kernelspec": {
            "name": "python3",
            "display_name": "Python 3.9.7 64-bit"
        },
        "interpreter": {
            "hash": "63fd5069d213b44bf678585dea6b12cceca9941eaf7f819626cde1f2670de90d"
        }
    },
    "nbformat": 4,
    "nbformat_minor": 2
}