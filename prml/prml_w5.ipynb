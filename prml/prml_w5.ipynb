{
    "cells": [
        {
            "cell_type": "markdown",
            "source": [
                "# Pattern Recognition and Machine Learning\r\n",
                "## Week 5 Tutorial"
            ],
            "metadata": {}
        },
        {
            "cell_type": "markdown",
            "source": [
                "## Tutorial 1 - Weather Forcasting"
            ],
            "metadata": {}
        },
        {
            "cell_type": "markdown",
            "source": [
                "## 1 Dummy Dataset"
            ],
            "metadata": {}
        },
        {
            "cell_type": "code",
            "execution_count": null,
            "source": [
                "weather = ['Sunny','Sunny','Overcast','Rainy','Rainy','Rainy','Overcast','Sunny','Sunny',\r\n",
                "           'Rainy','Sunny','Overcast','Overcast','Rainy']\r\n",
                "temp = ['Hot','Hot','Hot','Mild','Cool','Cool','Cool','Mild','Cool','Mild','Mild',\r\n",
                "        'Mild','Hot','Mild']\r\n",
                "humid = ['high', 'high', 'high', 'high', 'normal', 'normal', 'normal', 'high', 'normal','normal', 'normal', 'high', 'normal', 'high']\r\n",
                "windy = [False, True, False, False, False, True, True, False, False, False, True, True, False, True]\r\n",
                "\r\n",
                "play = ['No','No','Yes','Yes','Yes','No','Yes','No','Yes','Yes','Yes','Yes','Yes','No']"
            ],
            "outputs": [],
            "metadata": {}
        },
        {
            "cell_type": "markdown",
            "source": [
                "## 2 Weather Forcasting using Naive Bayes\r\n",
                "2.1 Covert categorical data to numeric data"
            ],
            "metadata": {}
        },
        {
            "cell_type": "code",
            "execution_count": null,
            "source": [
                "from sklearn import preprocessing\r\n",
                "le = preprocessing.LabelEncoder()\r\n",
                "\r\n",
                "# Convert string variables to numerical levels\r\n",
                "weather_encoded = le.fit_transform(weather)\r\n",
                "temp_encoded = le.fit_transform(temp)\r\n",
                "humid_encoded = le.fit_transform(humid)\r\n",
                "windy_encoded = le.fit_transform(windy)\r\n",
                "play_encoded = le.fit_transform(play)"
            ],
            "outputs": [],
            "metadata": {}
        },
        {
            "cell_type": "markdown",
            "source": [
                "2.2 Extracting features and labels"
            ],
            "metadata": {}
        },
        {
            "cell_type": "code",
            "execution_count": null,
            "source": [
                "X = list(zip(weather_encoded,temp_encoded,humid_encoded,windy_encoded))\r\n",
                "y = play_encoded"
            ],
            "outputs": [],
            "metadata": {}
        },
        {
            "cell_type": "markdown",
            "source": [
                "2.3 Spliting data into train/test sets"
            ],
            "metadata": {}
        },
        {
            "cell_type": "code",
            "execution_count": null,
            "source": [
                "from sklearn.model_selection import train_test_split\r\n",
                "\r\n",
                "X_train, X_test, y_train, y_test = train_test_split(X, y,\r\n",
                "                                                    test_size=0.3,\r\n",
                "                                                    random_state=111)"
            ],
            "outputs": [],
            "metadata": {}
        },
        {
            "cell_type": "markdown",
            "source": [
                "2.4 Generate model - Gaussian Naive Bayes"
            ],
            "metadata": {}
        },
        {
            "cell_type": "code",
            "execution_count": null,
            "source": [
                "from sklearn.naive_bayes import GaussianNB\r\n",
                "\r\n",
                "# Create Gaussian classifier\r\n",
                "md = GaussianNB()\r\n",
                "\r\n",
                "md.fit(X_train, y_train)"
            ],
            "outputs": [],
            "metadata": {}
        },
        {
            "cell_type": "code",
            "execution_count": null,
            "source": [
                "result = md.predict(X_test)\r\n",
                "print(f\"Model predicts: {result}\")"
            ],
            "outputs": [],
            "metadata": {}
        },
        {
            "cell_type": "markdown",
            "source": [
                "2.5 Evaluate model"
            ],
            "metadata": {}
        },
        {
            "cell_type": "code",
            "execution_count": null,
            "source": [
                "from sklearn import metrics\r\n",
                "from sklearn.metrics import classification_report"
            ],
            "outputs": [],
            "metadata": {}
        },
        {
            "cell_type": "code",
            "execution_count": null,
            "source": [
                "# Calculate metrics from the predictions\r\n",
                "print(\"Accuracy:\",metrics.accuracy_score(y_test, result))\r\n",
                "print(\"Precision:\",metrics.precision_score(y_test, result, average = 'weighted'))\r\n",
                "print(\"Recall:\",metrics.recall_score(y_test, result, average = 'weighted'))\r\n",
                "print(\"F1-score:\",metrics.f1_score(y_test, result, average = 'weighted'))"
            ],
            "outputs": [],
            "metadata": {}
        },
        {
            "cell_type": "code",
            "execution_count": null,
            "source": [
                "# Compute the confusion metrix\r\n",
                "metrics.confusion_matrix(y_test, result)"
            ],
            "outputs": [],
            "metadata": {}
        },
        {
            "cell_type": "markdown",
            "source": [
                "2.6 Generate model - Multinominal Naive Bayes"
            ],
            "metadata": {}
        },
        {
            "cell_type": "code",
            "execution_count": null,
            "source": [
                "from sklearn.naive_bayes import MultinomialNB\r\n",
                "\r\n",
                "# Create Gaussian classifier\r\n",
                "md.fit(X_train, y_train)"
            ],
            "outputs": [],
            "metadata": {}
        },
        {
            "cell_type": "code",
            "execution_count": null,
            "source": [
                "result = md.predict(X_test)\r\n",
                "print(f\"Model predicts: {result}\")"
            ],
            "outputs": [],
            "metadata": {}
        },
        {
            "cell_type": "code",
            "execution_count": null,
            "source": [
                "# Calculate metrics from the predictions\r\n",
                "print(\"Accuracy:\",metrics.accuracy_score(y_test, result))\r\n",
                "print(\"Precision:\",metrics.precision_score(y_test, result, average = 'weighted'))\r\n",
                "print(\"Recall:\",metrics.recall_score(y_test, result, average = 'weighted'))\r\n",
                "print(\"F1-score:\",metrics.f1_score(y_test, result, average = 'weighted'))"
            ],
            "outputs": [],
            "metadata": {}
        },
        {
            "cell_type": "code",
            "execution_count": null,
            "source": [
                "# Compute the confusion metrix\r\n",
                "metrics.confusion_matrix(y_test, result)"
            ],
            "outputs": [],
            "metadata": {}
        },
        {
            "cell_type": "markdown",
            "source": [
                "## Tutorial 2 - Spam Detection"
            ],
            "metadata": {}
        },
        {
            "cell_type": "markdown",
            "source": [
                "## 1 Load dataset"
            ],
            "metadata": {}
        },
        {
            "cell_type": "code",
            "execution_count": null,
            "source": [
                "import pandas as pd\r\n",
                "\r\n",
                "spam_data = pd.read_csv(\"prml/data/spam.csv\", sep=',')"
            ],
            "outputs": [],
            "metadata": {}
        },
        {
            "cell_type": "markdown",
            "source": [
                "## 2 Data exploration"
            ],
            "metadata": {}
        },
        {
            "cell_type": "code",
            "execution_count": null,
            "source": [
                "spam_data.info()"
            ],
            "outputs": [],
            "metadata": {}
        },
        {
            "cell_type": "code",
            "execution_count": null,
            "source": [
                "spam_data.head(15)"
            ],
            "outputs": [],
            "metadata": {}
        },
        {
            "cell_type": "code",
            "execution_count": null,
            "source": [
                "spam_data['Label'].value_counts()"
            ],
            "outputs": [],
            "metadata": {}
        },
        {
            "cell_type": "code",
            "execution_count": null,
            "source": [
                "spam_data.groupby('Label').describe()"
            ],
            "outputs": [],
            "metadata": {}
        },
        {
            "cell_type": "markdown",
            "source": [
                "## 2 Feature extration"
            ],
            "metadata": {}
        },
        {
            "cell_type": "code",
            "execution_count": null,
            "source": [
                "from sklearn.feature_extraction.text import CountVectorizer"
            ],
            "outputs": [],
            "metadata": {}
        },
        {
            "cell_type": "code",
            "execution_count": null,
            "source": [
                "# A sample\r\n",
                "sample = spam_data['EmailText'][81]"
            ],
            "outputs": [],
            "metadata": {}
        },
        {
            "cell_type": "code",
            "execution_count": null,
            "source": [
                "cv = CountVectorizer()\r\n",
                "cv.fit_transform(sample)\r\n",
                "cv.vocabulary_"
            ],
            "outputs": [],
            "metadata": {}
        },
        {
            "cell_type": "markdown",
            "source": [
                "## 3 Build multinominal naive bayes model"
            ],
            "metadata": {}
        },
        {
            "cell_type": "code",
            "execution_count": null,
            "source": [
                "# Get the features\r\n",
                "X = cv.fit_transform(spam_data['EmailText'])\r\n",
                "\r\n",
                "# Get the targets\r\n",
                "y = spam_data['Label']"
            ],
            "outputs": [],
            "metadata": {}
        },
        {
            "cell_type": "code",
            "execution_count": null,
            "source": [
                "X.shape()"
            ],
            "outputs": [],
            "metadata": {}
        },
        {
            "cell_type": "code",
            "execution_count": null,
            "source": [
                "y.shape()"
            ],
            "outputs": [],
            "metadata": {}
        },
        {
            "cell_type": "code",
            "execution_count": null,
            "source": [
                "from sklearn.model_selection import train_test_split\r\n",
                "\r\n",
                "X_train, X_test, y_train, y_test = train_test_split(X, y,\r\n",
                "                                                    test_size=0.2,\r\n",
                "                                                    random_state=111)"
            ],
            "outputs": [],
            "metadata": {}
        },
        {
            "cell_type": "code",
            "execution_count": null,
            "source": [
                "from sklearn.naive_bayes import MultinomialNB\r\n",
                "\r\n",
                "mn = MultinomialNB()\r\n",
                "mn.fit(X_train, y_train)"
            ],
            "outputs": [],
            "metadata": {}
        },
        {
            "cell_type": "markdown",
            "source": [
                "## 4 Make prediction"
            ],
            "metadata": {}
        },
        {
            "cell_type": "code",
            "execution_count": null,
            "source": [
                "result = mn.predict(X_test)"
            ],
            "outputs": [],
            "metadata": {}
        },
        {
            "cell_type": "markdown",
            "source": [
                "## 5 Evaluation"
            ],
            "metadata": {}
        },
        {
            "cell_type": "code",
            "execution_count": null,
            "source": [
                "score = mn.score(X_train, y_train)\r\n",
                "print(f\"Score of this model: {score}\")"
            ],
            "outputs": [],
            "metadata": {}
        },
        {
            "cell_type": "code",
            "execution_count": null,
            "source": [
                "# Compute the confusion metrix\r\n",
                "metrics.confusion_matrix(y_test, result)"
            ],
            "outputs": [],
            "metadata": {}
        },
        {
            "cell_type": "markdown",
            "source": [
                "## 6 Display misclassified messages"
            ],
            "metadata": {}
        },
        {
            "cell_type": "code",
            "execution_count": null,
            "source": [
                "index = 0\r\n",
                "misclassifiedIndexes = []\r\n",
                "for label, predict in zip(y_test, result):\r\n",
                "    if label != predict: \r\n",
                "        misclassifiedIndexes.append(index)\r\n",
                "    index +=1\r\n",
                "\r\n",
                "misclassifiedEmailText = []\r\n",
                "for badIndex in misclassifiedIndexes:\r\n",
                "    misclassifiedEmailText.append([result[badIndex],\r\n",
                "                                  spam_data['EmailText'][badIndex]])"
            ],
            "outputs": [],
            "metadata": {}
        },
        {
            "cell_type": "code",
            "execution_count": null,
            "source": [
                "print(pd.DataFrame(misclassifiedEmailText,\r\n",
                "      columns=['Wrong Label', 'Email Text']))"
            ],
            "outputs": [],
            "metadata": {}
        }
    ],
    "metadata": {
        "orig_nbformat": 4,
        "language_info": {
            "name": "python",
            "version": "3.9.7",
            "mimetype": "text/x-python",
            "codemirror_mode": {
                "name": "ipython",
                "version": 3
            },
            "pygments_lexer": "ipython3",
            "nbconvert_exporter": "python",
            "file_extension": ".py"
        },
        "kernelspec": {
            "name": "python3",
            "display_name": "Python 3.9.6 64-bit"
        },
        "interpreter": {
            "hash": "63fd5069d213b44bf678585dea6b12cceca9941eaf7f819626cde1f2670de90d"
        }
    },
    "nbformat": 4,
    "nbformat_minor": 2
}