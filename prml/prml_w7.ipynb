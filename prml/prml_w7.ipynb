{
 "cells": [
  {
   "cell_type": "markdown",
   "source": [
    "# **Pattern Recognition and Machine Learning**\n",
    "> 📘 Tutorial\n",
    ">\n",
    "> Week 7: SVM & Decision Tree"
   ],
   "metadata": {}
  },
  {
   "cell_type": "markdown",
   "source": [
    "## **Face Detection using SVM**\n",
    "### 1. Retrieve data"
   ],
   "metadata": {
    "collapsed": false
   }
  },
  {
   "cell_type": "code",
   "execution_count": 3,
   "source": [
    "from sklearn.datasets import fetch_lfw_people\r\n",
    "\r\n",
    "faces = fetch_lfw_people(min_faces_per_person=88)"
   ],
   "outputs": [],
   "metadata": {
    "collapsed": false,
    "pycharm": {
     "name": "#%%\n"
    }
   }
  },
  {
   "cell_type": "code",
   "execution_count": null,
   "source": [
    "faces"
   ],
   "outputs": [],
   "metadata": {}
  },
  {
   "cell_type": "markdown",
   "source": [
    "### 2. Explore data"
   ],
   "metadata": {
    "collapsed": false
   }
  },
  {
   "cell_type": "code",
   "execution_count": 5,
   "source": [
    "faces.target_names"
   ],
   "outputs": [
    {
     "output_type": "execute_result",
     "data": {
      "text/plain": [
       "array(['Colin Powell', 'Donald Rumsfeld', 'George W Bush',\n",
       "       'Gerhard Schroeder', 'Tony Blair'], dtype='<U17')"
      ]
     },
     "metadata": {},
     "execution_count": 5
    }
   ],
   "metadata": {
    "collapsed": false,
    "pycharm": {
     "name": "#%%\n"
    }
   }
  },
  {
   "cell_type": "code",
   "execution_count": 6,
   "source": [
    "faces.images.shape"
   ],
   "outputs": [
    {
     "output_type": "execute_result",
     "data": {
      "text/plain": [
       "(1140, 62, 47)"
      ]
     },
     "metadata": {},
     "execution_count": 6
    }
   ],
   "metadata": {}
  },
  {
   "cell_type": "code",
   "execution_count": 9,
   "source": [
    "n_samples = faces.images.shape[0]\r\n",
    "n_features = faces.data.shape[1]\r\n",
    "n_classes = faces.target_names.shape[0]\r\n",
    "\r\n",
    "print(f'Numbers of samples: {n_samples}')\r\n",
    "print(f'Numbers of features: {n_features}')\r\n",
    "print(f'Numbers of classes: {n_classes}')"
   ],
   "outputs": [
    {
     "output_type": "error",
     "ename": "AttributeError",
     "evalue": "shape",
     "traceback": [
      "\u001b[1;31m---------------------------------------------------------------------------\u001b[0m",
      "\u001b[1;31mKeyError\u001b[0m                                  Traceback (most recent call last)",
      "\u001b[1;32mC:\\Python39\\lib\\site-packages\\sklearn\\utils\\__init__.py\u001b[0m in \u001b[0;36m__getattr__\u001b[1;34m(self, key)\u001b[0m\n\u001b[0;32m     93\u001b[0m         \u001b[1;32mtry\u001b[0m\u001b[1;33m:\u001b[0m\u001b[1;33m\u001b[0m\u001b[1;33m\u001b[0m\u001b[0m\n\u001b[1;32m---> 94\u001b[1;33m             \u001b[1;32mreturn\u001b[0m \u001b[0mself\u001b[0m\u001b[1;33m[\u001b[0m\u001b[0mkey\u001b[0m\u001b[1;33m]\u001b[0m\u001b[1;33m\u001b[0m\u001b[1;33m\u001b[0m\u001b[0m\n\u001b[0m\u001b[0;32m     95\u001b[0m         \u001b[1;32mexcept\u001b[0m \u001b[0mKeyError\u001b[0m\u001b[1;33m:\u001b[0m\u001b[1;33m\u001b[0m\u001b[1;33m\u001b[0m\u001b[0m\n",
      "\u001b[1;31mKeyError\u001b[0m: 'shape'",
      "\nDuring handling of the above exception, another exception occurred:\n",
      "\u001b[1;31mAttributeError\u001b[0m                            Traceback (most recent call last)",
      "\u001b[1;32m~\\AppData\\Local\\Temp/ipykernel_33000/3302113598.py\u001b[0m in \u001b[0;36m<module>\u001b[1;34m\u001b[0m\n\u001b[1;32m----> 1\u001b[1;33m \u001b[0mfaces\u001b[0m\u001b[1;33m.\u001b[0m\u001b[0mshape\u001b[0m\u001b[1;33m\u001b[0m\u001b[1;33m\u001b[0m\u001b[0m\n\u001b[0m",
      "\u001b[1;32mC:\\Python39\\lib\\site-packages\\sklearn\\utils\\__init__.py\u001b[0m in \u001b[0;36m__getattr__\u001b[1;34m(self, key)\u001b[0m\n\u001b[0;32m     94\u001b[0m             \u001b[1;32mreturn\u001b[0m \u001b[0mself\u001b[0m\u001b[1;33m[\u001b[0m\u001b[0mkey\u001b[0m\u001b[1;33m]\u001b[0m\u001b[1;33m\u001b[0m\u001b[1;33m\u001b[0m\u001b[0m\n\u001b[0;32m     95\u001b[0m         \u001b[1;32mexcept\u001b[0m \u001b[0mKeyError\u001b[0m\u001b[1;33m:\u001b[0m\u001b[1;33m\u001b[0m\u001b[1;33m\u001b[0m\u001b[0m\n\u001b[1;32m---> 96\u001b[1;33m             \u001b[1;32mraise\u001b[0m \u001b[0mAttributeError\u001b[0m\u001b[1;33m(\u001b[0m\u001b[0mkey\u001b[0m\u001b[1;33m)\u001b[0m\u001b[1;33m\u001b[0m\u001b[1;33m\u001b[0m\u001b[0m\n\u001b[0m\u001b[0;32m     97\u001b[0m \u001b[1;33m\u001b[0m\u001b[0m\n\u001b[0;32m     98\u001b[0m     \u001b[1;32mdef\u001b[0m \u001b[0m__setstate__\u001b[0m\u001b[1;33m(\u001b[0m\u001b[0mself\u001b[0m\u001b[1;33m,\u001b[0m \u001b[0mstate\u001b[0m\u001b[1;33m)\u001b[0m\u001b[1;33m:\u001b[0m\u001b[1;33m\u001b[0m\u001b[1;33m\u001b[0m\u001b[0m\n",
      "\u001b[1;31mAttributeError\u001b[0m: shape"
     ]
    }
   ],
   "metadata": {}
  },
  {
   "cell_type": "code",
   "execution_count": null,
   "source": [
    "faces.data.shape"
   ],
   "outputs": [],
   "metadata": {}
  },
  {
   "cell_type": "code",
   "execution_count": null,
   "source": [
    "from matplotlib import pyplot as plt\r\n",
    "\r\n",
    "fig, ax = plt.subplots(3, 4, figsize=(8,8))\r\n",
    "for i, axi in enumerate(ax.flat):\r\n",
    "    axi.imshow(faces.images[i], cmap='bone')\r\n",
    "    axi.set(xticks=[], yticks=[], xlabel=faces.target_names[faces.target[i]])"
   ],
   "outputs": [],
   "metadata": {}
  },
  {
   "cell_type": "markdown",
   "source": [
    "### 3. Split data into train/test sets"
   ],
   "metadata": {}
  },
  {
   "cell_type": "code",
   "execution_count": null,
   "source": [
    "from sklearn.model_selection import train_test_split\r\n",
    "\r\n",
    "X_train, X_test, y_train, y_test = train_test_split(faces.data, faces.target,\r\n",
    "    train_size = 0.8, random_state=14)"
   ],
   "outputs": [],
   "metadata": {}
  },
  {
   "cell_type": "code",
   "execution_count": null,
   "source": [
    "X_train.shape"
   ],
   "outputs": [],
   "metadata": {}
  },
  {
   "cell_type": "code",
   "execution_count": null,
   "source": [
    "X_test.shape"
   ],
   "outputs": [],
   "metadata": {}
  },
  {
   "cell_type": "code",
   "execution_count": null,
   "source": [
    "y_train.shape"
   ],
   "outputs": [],
   "metadata": {}
  },
  {
   "cell_type": "code",
   "execution_count": null,
   "source": [
    "y_test.shape"
   ],
   "outputs": [],
   "metadata": {}
  },
  {
   "cell_type": "markdown",
   "source": [
    "### 4. Build model"
   ],
   "metadata": {}
  },
  {
   "cell_type": "code",
   "execution_count": null,
   "source": [
    "from sklearn.svm import SVC\r\n",
    "\r\n",
    "model = SVC()"
   ],
   "outputs": [],
   "metadata": {}
  },
  {
   "cell_type": "markdown",
   "source": [
    "### 5. Train and predict"
   ],
   "metadata": {}
  },
  {
   "cell_type": "code",
   "execution_count": null,
   "source": [
    "model.fit(X_train, y_train)\r\n",
    "\r\n",
    "y_pred = model.predict(X_test)"
   ],
   "outputs": [],
   "metadata": {}
  },
  {
   "cell_type": "markdown",
   "source": [
    "### 6. Evaluate the result"
   ],
   "metadata": {}
  },
  {
   "cell_type": "code",
   "execution_count": null,
   "source": [
    "from sklearn import metrics\r\n",
    "from sklearn.metrics import confusion_matrix\r\n",
    "from sklearn.metrics import classification_report\r\n",
    "\r\n",
    "print(\"Accuracy:\",metrics.accuracy_score(y_test, y_pred))\r\n",
    "print(\"Precision:\",metrics.precision_score(y_test, y_pred, average='weighted'))\r\n",
    "print(\"Recall:\",metrics.recall_score(y_test, y_pred, average='weighted'))\r\n",
    "print(\"F1-score:\",metrics.f1_score(y_test, y_pred, average='weighted'))"
   ],
   "outputs": [],
   "metadata": {}
  },
  {
   "cell_type": "markdown",
   "source": [
    "### 7. Print classification report"
   ],
   "metadata": {}
  },
  {
   "cell_type": "code",
   "execution_count": null,
   "source": [
    "from sklearn.metrics import classification_report\r\n",
    "\r\n",
    "print(classification_report(y_test, y_pred, target_names=faces.target_names))"
   ],
   "outputs": [],
   "metadata": {}
  },
  {
   "cell_type": "markdown",
   "source": [
    "### 8. Visualize the confusion matrix"
   ],
   "metadata": {}
  },
  {
   "cell_type": "code",
   "execution_count": null,
   "source": [
    "import seaborn as sns\r\n",
    "from sklearn.metrics import confusion_matrix\r\n",
    "\r\n",
    "mat = confusion_matrix(y_test, y_pred)\r\n",
    "plt.figure(figsize=(7,5))\r\n",
    "sns.heatmap(mat.T, square=True, annot=True, fmt='d', cbar=False,\r\n",
    "xticklabels=faces.target_names,\r\n",
    "yticklabels=faces.target_names)\r\n",
    "plt.xlabel('True label')\r\n",
    "plt.ylabel('Predicted label')"
   ],
   "outputs": [],
   "metadata": {}
  },
  {
   "cell_type": "code",
   "execution_count": null,
   "source": [
    "params = model.get_params()\r\n",
    "\r\n",
    "params"
   ],
   "outputs": [],
   "metadata": {}
  },
  {
   "cell_type": "markdown",
   "source": [
    "### 9. Tune parameter"
   ],
   "metadata": {}
  },
  {
   "cell_type": "code",
   "execution_count": null,
   "source": [
    "# Here we will adjust C (which controls the margin hardness) and gamma\r\n",
    "# (which controls the size of the radial basis function (RBF) kernel),\r\n",
    "# and determine the best model:\r\n",
    "from sklearn.model_selection import GridSearchCV\r\n",
    "\r\n",
    "model = SVC()\r\n",
    "\r\n",
    "# Parameter setup\r\n",
    "param_grid = [\r\n",
    "    {'C': [0.5, 0.1, 1, 5, 10],\r\n",
    "     'kernel': ['linear'],\r\n",
    "     'class_weight': ['balanced']},\r\n",
    "    {'C': [0.5, 0.1, 1, 5, 10],\r\n",
    "     'gamma': [0.0001, 0.001, 0.01, 0.1, 0.005, 0.05, 0.5],\r\n",
    "     'kernel': ['rbf'],\r\n",
    "     'class_weight': ['balanced']}\r\n",
    "]\r\n",
    "\r\n",
    "# Run the Grid Search and fit the training data\r\n",
    "grs = GridSearchCV(model, param_grid)\r\n",
    "\r\n",
    "grs.fit(X_train, y_train)"
   ],
   "outputs": [],
   "metadata": {}
  },
  {
   "cell_type": "code",
   "execution_count": null,
   "source": [
    "# Output best value\r\n",
    "print(\"Best Hyper Parameters:\",grs.best_params_)"
   ],
   "outputs": [],
   "metadata": {}
  },
  {
   "cell_type": "code",
   "execution_count": null,
   "source": [
    "# Make prediction and calculate metrics\r\n",
    "model_best = grs.best_estimator_\r\n",
    "\r\n",
    "y_pred = model_best.predict(X_test)\r\n",
    "\r\n",
    "# Evaluate the model\r\n",
    "print(\"Accuracy:\",metrics.accuracy_score(y_test, y_pred))\r\n",
    "print(\"Precision:\",metrics.precision_score(y_test, y_pred, average='weighted'))\r\n",
    "print(\"Recall:\",metrics.recall_score(y_test, y_pred, average='weighted'))\r\n",
    "print(\"F1-score:\",metrics.f1_score(y_test, y_pred, average='weighted'))"
   ],
   "outputs": [],
   "metadata": {}
  },
  {
   "cell_type": "code",
   "execution_count": null,
   "source": [
    "plt.figure(figsize=(8,6))\r\n",
    "\r\n",
    "sns.heatmap(mat.T, square=True, annot=True, fmt='d', cbar=False,\r\n",
    "xticklabels=faces.target_names,\r\n",
    "yticklabels=faces.target_names)\r\n",
    "plt.xlabel('True label')\r\n",
    "plt.ylabel('Predicted label')"
   ],
   "outputs": [],
   "metadata": {}
  },
  {
   "cell_type": "markdown",
   "source": [
    "### 10. Display misclassified faces"
   ],
   "metadata": {}
  },
  {
   "cell_type": "code",
   "execution_count": null,
   "source": [
    "fig, ax = plt.subplots(4, 6, figsize=(10,10))\r\n",
    "\r\n",
    "for i, axi in enumerate(ax.flat):\r\n",
    "    axi.imshow(X_test[i].reshape(62, 47), cmap='bone')\r\n",
    "    axi.set(xticks=[], yticks=[])\r\n",
    "    axi.set_xlabel(faces.target_names[y_test[i]].split()[-1])\r\n",
    "    axi.set_ylabel(faces.target_names[y_pred[i]].split()[-1],\r\n",
    "    color='black' if y_pred[i] == y_test[i] else 'red')\r\n",
    "\r\n",
    "fig.suptitle('Predicted Names: Incorrect Labels in Red', size=14);\r\n"
   ],
   "outputs": [],
   "metadata": {}
  },
  {
   "cell_type": "markdown",
   "source": [
    "## **Breast Cancer Detection using Decision Tree**\r\n",
    "### 1. Retrieve data"
   ],
   "metadata": {}
  },
  {
   "cell_type": "code",
   "execution_count": null,
   "source": [
    "from sklearn.datasets import load_breast_cancer\r\n",
    "\r\n",
    "breast_cancer_dataset = load_breast_cancer()"
   ],
   "outputs": [],
   "metadata": {}
  },
  {
   "cell_type": "code",
   "execution_count": null,
   "source": [
    "breast_cancer_dataset"
   ],
   "outputs": [],
   "metadata": {}
  },
  {
   "cell_type": "markdown",
   "source": [
    "### 2. Explore data"
   ],
   "metadata": {}
  },
  {
   "cell_type": "code",
   "execution_count": null,
   "source": [
    "breast_cancer_dataset.target_names"
   ],
   "outputs": [],
   "metadata": {}
  },
  {
   "cell_type": "code",
   "execution_count": null,
   "source": [
    "breast_cancer_dataset.data.shape"
   ],
   "outputs": [],
   "metadata": {}
  },
  {
   "cell_type": "code",
   "execution_count": null,
   "source": [
    "breast_cancer_dataset.feature_names"
   ],
   "outputs": [],
   "metadata": {}
  },
  {
   "cell_type": "code",
   "execution_count": null,
   "source": [
    "breast_cancer_dataset.target.shape"
   ],
   "outputs": [],
   "metadata": {}
  },
  {
   "cell_type": "markdown",
   "source": [
    "### 3. Split data into train/test sets"
   ],
   "metadata": {}
  },
  {
   "cell_type": "code",
   "execution_count": null,
   "source": [
    "from sklearn.model_selection import train_test_split\r\n",
    "\r\n",
    "X_train, X_test, y_train, y_test = train_test_split(\r\n",
    "    breast_cancer_dataset.data, breast_cancer_dataset.target,\r\n",
    "    test_size = 0.2, random_state = 14)"
   ],
   "outputs": [],
   "metadata": {}
  },
  {
   "cell_type": "code",
   "execution_count": null,
   "source": [
    "X_train.shape"
   ],
   "outputs": [],
   "metadata": {}
  },
  {
   "cell_type": "code",
   "execution_count": null,
   "source": [
    "X_test.shape"
   ],
   "outputs": [],
   "metadata": {}
  },
  {
   "cell_type": "code",
   "execution_count": null,
   "source": [
    "y_train.shape"
   ],
   "outputs": [],
   "metadata": {}
  },
  {
   "cell_type": "code",
   "execution_count": null,
   "source": [
    "y_test.shape"
   ],
   "outputs": [],
   "metadata": {}
  },
  {
   "cell_type": "markdown",
   "source": [
    "### 4. Build model"
   ],
   "metadata": {}
  },
  {
   "cell_type": "code",
   "execution_count": null,
   "source": [
    "from sklearn.tree import DecisionTreeClassifier\r\n",
    "\r\n",
    "model = DecisionTreeClassifier()"
   ],
   "outputs": [],
   "metadata": {}
  },
  {
   "cell_type": "markdown",
   "source": [
    "### 5. Train and predict"
   ],
   "metadata": {}
  },
  {
   "cell_type": "code",
   "execution_count": null,
   "source": [
    "model.fit(X_train,y_train)\r\n",
    "\r\n",
    "y_pred= model.predict(X_test)"
   ],
   "outputs": [],
   "metadata": {}
  },
  {
   "cell_type": "markdown",
   "source": [
    "### 6. Evaluate the result"
   ],
   "metadata": {}
  },
  {
   "cell_type": "code",
   "execution_count": null,
   "source": [
    "from sklearn import metrics\r\n",
    "from sklearn.metrics import confusion_matrix\r\n",
    "from sklearn.metrics import classification_report\r\n",
    "\r\n",
    "print(\"Accuracy:\",metrics.accuracy_score(y_test, y_pred))\r\n",
    "print(\"Precision:\",metrics.precision_score(y_test, y_pred, average='weighted'))\r\n",
    "print(\"Recall:\",metrics.recall_score(y_test, y_pred, average='weighted'))\r\n",
    "print(\"F1-score:\",metrics.f1_score(y_test, y_pred, average='weighted'))"
   ],
   "outputs": [],
   "metadata": {}
  },
  {
   "cell_type": "markdown",
   "source": [
    "### 7. Print classification report"
   ],
   "metadata": {}
  },
  {
   "cell_type": "code",
   "execution_count": null,
   "source": [
    "report = classification_report(y_test, y_pred,\r\n",
    "            target_names = breast_cancer_dataset.target_names)\r\n",
    "\r\n",
    "print(report)"
   ],
   "outputs": [],
   "metadata": {}
  },
  {
   "cell_type": "markdown",
   "source": [
    "### 8. Tune parameter"
   ],
   "metadata": {}
  },
  {
   "cell_type": "code",
   "execution_count": null,
   "source": [
    "from sklearn.model_selection import GridSearchCV\r\n",
    "\r\n",
    "model = DecisionTreeClassifier()\r\n",
    "\r\n",
    "# Parameter setup\r\n",
    "params = {'criterion': ['gini', 'entropy'], 'max_depth': range(1,10)}\r\n",
    "\r\n",
    "# Run the Grid Search and fit the training data\r\n",
    "# 10-fold\r\n",
    "#grs = GridSearchCV(model, param_grid=params, cv = 10)\r\n",
    "\r\n",
    "# 5-fold default\r\n",
    "grs = GridSearchCV(model, param_grid=params)\r\n",
    "\r\n",
    "grs.fit(X_train, y_train)"
   ],
   "outputs": [],
   "metadata": {}
  },
  {
   "cell_type": "code",
   "execution_count": null,
   "source": [
    "# Output best value\r\n",
    "print(\"Best Hyper Parameters:\",grs.best_params_)"
   ],
   "outputs": [],
   "metadata": {}
  },
  {
   "cell_type": "code",
   "execution_count": null,
   "source": [
    "# Make prediction and calculate metrics\r\n",
    "model_best = grs.best_estimator_\r\n",
    "\r\n",
    "y_pred = model_best.predict(X_test)\r\n",
    "\r\n",
    "# Evaluate the model\r\n",
    "print(\"Accuracy:\",metrics.accuracy_score(y_test, y_pred))\r\n",
    "print(\"Precision:\",metrics.precision_score(y_test, y_pred, average='weighted'))\r\n",
    "print(\"Recall:\",metrics.recall_score(y_test, y_pred, average='weighted'))\r\n",
    "print(\"F1-score:\",metrics.f1_score(y_test, y_pred, average='weighted'))"
   ],
   "outputs": [],
   "metadata": {}
  },
  {
   "cell_type": "markdown",
   "source": [
    "### 9. Visualize the tree"
   ],
   "metadata": {}
  },
  {
   "cell_type": "code",
   "execution_count": null,
   "source": [
    "from matplotlib import pyplot as plt\r\n",
    "from sklearn import tree\r\n",
    "\r\n",
    "fig = plt.figure(figsize=(15,10))\r\n",
    "_ = tree.plot_tree(model, \r\n",
    "                   filled=True,\r\n",
    "                   feature_names=breast_cancer_dataset.feature_names,  \r\n",
    "                   class_names=breast_cancer_dataset.target_names)"
   ],
   "outputs": [],
   "metadata": {}
  }
 ],
 "metadata": {
  "orig_nbformat": 4,
  "language_info": {
   "name": "python",
   "version": "3.9.7",
   "mimetype": "text/x-python",
   "codemirror_mode": {
    "name": "ipython",
    "version": 3
   },
   "pygments_lexer": "ipython3",
   "nbconvert_exporter": "python",
   "file_extension": ".py"
  },
  "kernelspec": {
   "name": "python3",
   "display_name": "Python 3.9.7 64-bit"
  },
  "interpreter": {
   "hash": "63fd5069d213b44bf678585dea6b12cceca9941eaf7f819626cde1f2670de90d"
  }
 },
 "nbformat": 4,
 "nbformat_minor": 2
}