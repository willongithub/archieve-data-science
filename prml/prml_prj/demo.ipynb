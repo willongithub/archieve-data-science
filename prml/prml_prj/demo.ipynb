{
 "cells": [
  {
   "cell_type": "code",
   "execution_count": 1,
   "metadata": {},
   "outputs": [],
   "source": [
    "import numpy as np\n",
    "import pandas as pd\n",
    "import matplotlib.pyplot as plt\n",
    "\n",
    "from sklearn.pipeline import make_pipeline\n",
    "from sklearn.preprocessing import StandardScaler, MinMaxScaler\n",
    "from sklearn.model_selection import train_test_split, GridSearchCV, RandomizedSearchCV\n",
    "from sklearn.feature_selection import SelectKBest, f_regression, chi2\n",
    "from sklearn.metrics import mean_squared_error, accuracy_score, explained_variance_score, mean_absolute_error, mean_absolute_percentage_error\n",
    "\n",
    "from sklearn.naive_bayes import MultinomialNB, GaussianNB, ComplementNB\n",
    "from sklearn.neighbors import KNeighborsClassifier, NearestCentroid, KNeighborsRegressor\n",
    "from sklearn.svm import SVC, SVR\n",
    "from sklearn.tree import DecisionTreeClassifier\n",
    "from sklearn.linear_model import ElasticNetCV, LogisticRegression, LinearRegression, TweedieRegressor, GammaRegressor, ElasticNet\n",
    "from sklearn.ensemble import RandomForestRegressor\n",
    "from sklearn.neural_network import MLPRegressor\n",
    "\n",
    "from scipy.stats import randint"
   ]
  },
  {
   "cell_type": "code",
   "execution_count": 2,
   "metadata": {},
   "outputs": [
    {
     "data": {
      "text/plain": [
       "(60, 13)"
      ]
     },
     "execution_count": 2,
     "metadata": {},
     "output_type": "execute_result"
    }
   ],
   "source": [
    "data = pd.read_csv(\"assets/data/main_dataset.csv\")\n",
    "data.shape"
   ]
  },
  {
   "cell_type": "code",
   "execution_count": 4,
   "metadata": {},
   "outputs": [
    {
     "data": {
      "text/html": [
       "<div>\n",
       "<style scoped>\n",
       "    .dataframe tbody tr th:only-of-type {\n",
       "        vertical-align: middle;\n",
       "    }\n",
       "\n",
       "    .dataframe tbody tr th {\n",
       "        vertical-align: top;\n",
       "    }\n",
       "\n",
       "    .dataframe thead th {\n",
       "        text-align: right;\n",
       "    }\n",
       "</style>\n",
       "<table border=\"1\" class=\"dataframe\">\n",
       "  <thead>\n",
       "    <tr style=\"text-align: right;\">\n",
       "      <th></th>\n",
       "      <th>movie</th>\n",
       "      <th>box</th>\n",
       "      <th>pop_rating</th>\n",
       "      <th>pop_trailer</th>\n",
       "      <th>pop_review</th>\n",
       "      <th>budget</th>\n",
       "      <th>critic_rt</th>\n",
       "      <th>critic_ms</th>\n",
       "      <th>public_rt</th>\n",
       "      <th>public_imdb</th>\n",
       "      <th>opinion_pos</th>\n",
       "      <th>opinion_neg</th>\n",
       "      <th>year</th>\n",
       "    </tr>\n",
       "  </thead>\n",
       "  <tbody>\n",
       "    <tr>\n",
       "      <th>0</th>\n",
       "      <td>Call Me by Your Name</td>\n",
       "      <td>41</td>\n",
       "      <td>239</td>\n",
       "      <td>20297</td>\n",
       "      <td>1.100</td>\n",
       "      <td>4.52</td>\n",
       "      <td>94</td>\n",
       "      <td>93</td>\n",
       "      <td>86</td>\n",
       "      <td>7.9</td>\n",
       "      <td>198</td>\n",
       "      <td>10.0</td>\n",
       "      <td>2017</td>\n",
       "    </tr>\n",
       "    <tr>\n",
       "      <th>1</th>\n",
       "      <td>Darkest Hour</td>\n",
       "      <td>150</td>\n",
       "      <td>187</td>\n",
       "      <td>9019</td>\n",
       "      <td>0.670</td>\n",
       "      <td>30.00</td>\n",
       "      <td>84</td>\n",
       "      <td>75</td>\n",
       "      <td>82</td>\n",
       "      <td>7.4</td>\n",
       "      <td>94</td>\n",
       "      <td>2.7</td>\n",
       "      <td>2017</td>\n",
       "    </tr>\n",
       "    <tr>\n",
       "      <th>2</th>\n",
       "      <td>Dunkirk</td>\n",
       "      <td>527</td>\n",
       "      <td>600</td>\n",
       "      <td>45932</td>\n",
       "      <td>2.500</td>\n",
       "      <td>100.00</td>\n",
       "      <td>92</td>\n",
       "      <td>94</td>\n",
       "      <td>81</td>\n",
       "      <td>7.8</td>\n",
       "      <td>317</td>\n",
       "      <td>10.0</td>\n",
       "      <td>2017</td>\n",
       "    </tr>\n",
       "    <tr>\n",
       "      <th>3</th>\n",
       "      <td>Get Out</td>\n",
       "      <td>255</td>\n",
       "      <td>534</td>\n",
       "      <td>20403</td>\n",
       "      <td>1.700</td>\n",
       "      <td>4.50</td>\n",
       "      <td>98</td>\n",
       "      <td>85</td>\n",
       "      <td>86</td>\n",
       "      <td>7.7</td>\n",
       "      <td>107</td>\n",
       "      <td>8.4</td>\n",
       "      <td>2017</td>\n",
       "    </tr>\n",
       "    <tr>\n",
       "      <th>4</th>\n",
       "      <td>Lady Bird</td>\n",
       "      <td>79</td>\n",
       "      <td>263</td>\n",
       "      <td>19288</td>\n",
       "      <td>0.849</td>\n",
       "      <td>10.00</td>\n",
       "      <td>99</td>\n",
       "      <td>94</td>\n",
       "      <td>79</td>\n",
       "      <td>7.4</td>\n",
       "      <td>140</td>\n",
       "      <td>3.4</td>\n",
       "      <td>2017</td>\n",
       "    </tr>\n",
       "  </tbody>\n",
       "</table>\n",
       "</div>"
      ],
      "text/plain": [
       "                  movie  box  pop_rating  pop_trailer  pop_review  budget  \\\n",
       "0  Call Me by Your Name   41         239        20297       1.100    4.52   \n",
       "1          Darkest Hour  150         187         9019       0.670   30.00   \n",
       "2               Dunkirk  527         600        45932       2.500  100.00   \n",
       "3               Get Out  255         534        20403       1.700    4.50   \n",
       "4             Lady Bird   79         263        19288       0.849   10.00   \n",
       "\n",
       "   critic_rt  critic_ms  public_rt  public_imdb  opinion_pos  opinion_neg  \\\n",
       "0         94         93         86          7.9          198         10.0   \n",
       "1         84         75         82          7.4           94          2.7   \n",
       "2         92         94         81          7.8          317         10.0   \n",
       "3         98         85         86          7.7          107          8.4   \n",
       "4         99         94         79          7.4          140          3.4   \n",
       "\n",
       "   year  \n",
       "0  2017  \n",
       "1  2017  \n",
       "2  2017  \n",
       "3  2017  \n",
       "4  2017  "
      ]
     },
     "execution_count": 4,
     "metadata": {},
     "output_type": "execute_result"
    }
   ],
   "source": [
    "data.head()"
   ]
  },
  {
   "cell_type": "code",
   "execution_count": 181,
   "metadata": {},
   "outputs": [
    {
     "name": "stdout",
     "output_type": "stream",
     "text": [
      "<class 'pandas.core.frame.DataFrame'>\n",
      "RangeIndex: 60 entries, 0 to 59\n",
      "Data columns (total 18 columns):\n",
      " #   Column       Non-Null Count  Dtype  \n",
      "---  ------       --------------  -----  \n",
      " 0   movie        60 non-null     object \n",
      " 1   box          60 non-null     int64  \n",
      " 2   pop_rating   60 non-null     int64  \n",
      " 3   pop_trailer  60 non-null     int64  \n",
      " 4   pop_review   60 non-null     float64\n",
      " 5   budget       60 non-null     float64\n",
      " 6   critic_rt    60 non-null     int64  \n",
      " 7   critic_ms    60 non-null     int64  \n",
      " 8   public_rt    60 non-null     int64  \n",
      " 9   public_imdb  60 non-null     float64\n",
      " 10  opinion_pos  60 non-null     int64  \n",
      " 11  opinion_neg  60 non-null     float64\n",
      " 12  year         60 non-null     int64  \n",
      " 13  ratio        60 non-null     float64\n",
      " 14  roi          60 non-null     float64\n",
      " 15  ratio_w      60 non-null     float64\n",
      " 16  imdb_w       60 non-null     float64\n",
      " 17  rt_w         60 non-null     float64\n",
      "dtypes: float64(9), int64(8), object(1)\n",
      "memory usage: 8.6+ KB\n"
     ]
    }
   ],
   "source": [
    "data.info()"
   ]
  },
  {
   "cell_type": "code",
   "execution_count": 3,
   "metadata": {},
   "outputs": [
    {
     "data": {
      "text/plain": [
       "array([[<AxesSubplot:title={'center':'ratio'}>]], dtype=object)"
      ]
     },
     "execution_count": 3,
     "metadata": {},
     "output_type": "execute_result"
    },
    {
     "data": {
      "image/png": "[encoded data removed]",
      "text/plain": [
       "<Figure size 432x288 with 1 Axes>"
      ]
     },
     "metadata": {
      "needs_background": "light"
     },
     "output_type": "display_data"
    }
   ],
   "source": [
    "df = data\n",
    "df[\"ratio\"] = (df[\"opinion_pos\"] / df[\"opinion_neg\"])\n",
    "\n",
    "df.hist(column=\"ratio\", bins=30)"
   ]
  },
  {
   "cell_type": "code",
   "execution_count": 4,
   "metadata": {},
   "outputs": [
    {
     "data": {
      "text/plain": [
       "array([[<AxesSubplot:title={'center':'box'}>]], dtype=object)"
      ]
     },
     "execution_count": 4,
     "metadata": {},
     "output_type": "execute_result"
    },
    {
     "data": {
      "image/png": "[encoded data removed]",
      "text/plain": [
       "<Figure size 432x288 with 1 Axes>"
      ]
     },
     "metadata": {
      "needs_background": "light"
     },
     "output_type": "display_data"
    }
   ],
   "source": [
    "df.hist(column=\"box\", bins=30)"
   ]
  },
  {
   "cell_type": "code",
   "execution_count": 5,
   "metadata": {},
   "outputs": [],
   "source": [
    "# df[\"box_l\"] = df[\"box\"].apply(convert_box)\n",
    "df[\"roi\"] = (df[\"box\"] / df[\"budget\"])\n"
   ]
  },
  {
   "cell_type": "code",
   "execution_count": 448,
   "metadata": {},
   "outputs": [
    {
     "data": {
      "text/plain": [
       "array([[<AxesSubplot:title={'center':'roi'}>]], dtype=object)"
      ]
     },
     "execution_count": 448,
     "metadata": {},
     "output_type": "execute_result"
    },
    {
     "data": {
      "image/png": "[encoded data removed]",
      "text/plain": [
       "<Figure size 432x288 with 1 Axes>"
      ]
     },
     "metadata": {
      "needs_background": "light"
     },
     "output_type": "display_data"
    }
   ],
   "source": [
    "df.hist(column=\"roi\", bins=30)"
   ]
  },
  {
   "cell_type": "code",
   "execution_count": 662,
   "metadata": {},
   "outputs": [
    {
     "data": {
      "text/plain": [
       "Index(['movie', 'box', 'pop_rating', 'pop_trailer', 'pop_review', 'budget',\n",
       "       'critic_rt', 'critic_ms', 'public_rt', 'public_imdb', 'opinion_pos',\n",
       "       'opinion_neg', 'year', 'ratio', 'roi'],\n",
       "      dtype='object')"
      ]
     },
     "execution_count": 662,
     "metadata": {},
     "output_type": "execute_result"
    }
   ],
   "source": [
    "df.columns"
   ]
  },
  {
   "cell_type": "code",
   "execution_count": 78,
   "metadata": {},
   "outputs": [],
   "source": [
    "cols = ['pop_rating', 'pop_trailer', 'pop_review', 'budget',\n",
    "        'critic_rt', 'critic_ms', 'public_rt', 'public_imdb',\n",
    "        'ratio']\n",
    "\n",
    "X = df[cols]\n",
    "y = df.iloc[:, 1]\n",
    "\n",
    "# df['ratio_w'] = df['ratio'] * df['pop_trailer']\n",
    "# df['public_w'] = df['public_imdb'] * df['pop_rating']"
   ]
  },
  {
   "cell_type": "code",
   "execution_count": 79,
   "metadata": {},
   "outputs": [
    {
     "data": {
      "text/plain": [
       "(array([76.88283286, 65.43177827, 44.61918649,  1.2423821 , 81.61660608]),\n",
       " array([3.20465782e-12, 4.34510323e-11, 1.00932043e-08, 2.69609907e-01,\n",
       "        1.16456916e-12]))"
      ]
     },
     "execution_count": 79,
     "metadata": {},
     "output_type": "execute_result"
    }
   ],
   "source": [
    "X = pd.DataFrame(MinMaxScaler().fit_transform(X))\n",
    "X.columns = cols\n",
    "\n",
    "X['trend'] = (X['pop_trailer'] + X['pop_rating'] + X['pop_review'])/3\n",
    "X['sentiment'] = X['ratio'] * X['pop_trailer']\n",
    "X['public'] = (X['public_imdb'] + X['public_rt'])/2 * X['trend']\n",
    "X['critic'] = (X['critic_ms'] + X['critic_rt'])/2\n",
    "X['prospect'] = X['budget']\n",
    "\n",
    "select = [\n",
    "    'trend', 'sentiment', 'public', 'critic', 'prospect'\n",
    "]\n",
    "\n",
    "X = X[select]\n",
    "\n",
    "# select = [\n",
    "#     'pop_trailer', 'budget', 'ratio_w', 'public_w'\n",
    "# ]\n",
    "\n",
    "# X = df[select]\n",
    "\n",
    "# X.corr()\n",
    "f_regression(X, y)\n",
    "# chi2(X, y)"
   ]
  },
  {
   "cell_type": "code",
   "execution_count": 80,
   "metadata": {},
   "outputs": [
    {
     "data": {
      "text/plain": [
       "47    583\n",
       "18    321\n",
       "56    246\n",
       "13     75\n",
       "37    490\n",
       "Name: box, dtype: int64"
      ]
     },
     "execution_count": 80,
     "metadata": {},
     "output_type": "execute_result"
    }
   ],
   "source": [
    "X_train, X_test, y_train, y_test = train_test_split(\n",
    "        X, y, test_size=0.2, random_state=3)\n",
    "y_test.head()"
   ]
  },
  {
   "cell_type": "code",
   "execution_count": 95,
   "metadata": {},
   "outputs": [
    {
     "data": {
      "text/plain": [
       "RandomizedSearchCV(estimator=RandomForestRegressor(random_state=0),\n",
       "                   param_distributions={'max_depth': <scipy.stats._distn_infrastructure.rv_frozen object at 0x000001EA017AFC10>,\n",
       "                                        'n_estimators': <scipy.stats._distn_infrastructure.rv_frozen object at 0x000001EA02951D00>},\n",
       "                   random_state=0)"
      ]
     },
     "execution_count": 95,
     "metadata": {},
     "output_type": "execute_result"
    }
   ],
   "source": [
    "param = {\n",
    "    'n_estimators': randint(1, 10),\n",
    "    'max_depth': randint(5, 10)\n",
    "}\n",
    "\n",
    "search = RandomizedSearchCV(\n",
    "    estimator=RandomForestRegressor(random_state=0),\n",
    "    n_iter=10,\n",
    "    param_distributions=param,\n",
    "    random_state=0\n",
    ")\n",
    "\n",
    "search.fit(X_train.values, y_train.values)"
   ]
  },
  {
   "cell_type": "code",
   "execution_count": 93,
   "metadata": {},
   "outputs": [
    {
     "name": "stderr",
     "output_type": "stream",
     "text": [
      "C:\\Python39\\lib\\site-packages\\sklearn\\model_selection\\_validation.py:372: FitFailedWarning: \n",
      "3 fits failed out of a total of 30.\n",
      "The score on these train-test partitions for these parameters will be set to nan.\n",
      "If these failures are not expected, you can try to debug them by setting error_score='raise'.\n",
      "\n",
      "Below are more details about the failures:\n",
      "--------------------------------------------------------------------------------\n",
      "3 fits failed with the following error:\n",
      "Traceback (most recent call last):\n",
      "  File \"C:\\Python39\\lib\\site-packages\\sklearn\\model_selection\\_validation.py\", line 681, in _fit_and_score\n",
      "    estimator.fit(X_train, y_train, **fit_params)\n",
      "  File \"C:\\Python39\\lib\\site-packages\\sklearn\\linear_model\\_glm\\glm.py\", line 310, in fit\n",
      "    opt_res = scipy.optimize.minimize(\n",
      "  File \"C:\\Python39\\lib\\site-packages\\scipy\\optimize\\_minimize.py\", line 623, in minimize\n",
      "    return _minimize_lbfgsb(fun, x0, args, jac, bounds,\n",
      "  File \"C:\\Python39\\lib\\site-packages\\scipy\\optimize\\lbfgsb.py\", line 306, in _minimize_lbfgsb\n",
      "    sf = _prepare_scalar_function(fun, x0, jac=jac, args=args, epsilon=eps,\n",
      "  File \"C:\\Python39\\lib\\site-packages\\scipy\\optimize\\optimize.py\", line 261, in _prepare_scalar_function\n",
      "    sf = ScalarFunction(fun, x0, args, grad, hess,\n",
      "  File \"C:\\Python39\\lib\\site-packages\\scipy\\optimize\\_differentiable_functions.py\", line 140, in __init__\n",
      "    self._update_fun()\n",
      "  File \"C:\\Python39\\lib\\site-packages\\scipy\\optimize\\_differentiable_functions.py\", line 233, in _update_fun\n",
      "    self._update_fun_impl()\n",
      "  File \"C:\\Python39\\lib\\site-packages\\scipy\\optimize\\_differentiable_functions.py\", line 137, in update_fun\n",
      "    self.f = fun_wrapped(self.x)\n",
      "  File \"C:\\Python39\\lib\\site-packages\\scipy\\optimize\\_differentiable_functions.py\", line 134, in fun_wrapped\n",
      "    return fun(np.copy(x), *args)\n",
      "  File \"C:\\Python39\\lib\\site-packages\\scipy\\optimize\\optimize.py\", line 74, in __call__\n",
      "    self._compute_if_needed(x, *args)\n",
      "  File \"C:\\Python39\\lib\\site-packages\\scipy\\optimize\\optimize.py\", line 68, in _compute_if_needed\n",
      "    fg = self.fun(x, *args)\n",
      "  File \"C:\\Python39\\lib\\site-packages\\sklearn\\linear_model\\_glm\\glm.py\", line 299, in func\n",
      "    dev = family.deviance(y, y_pred, weights)\n",
      "  File \"C:\\Python39\\lib\\site-packages\\sklearn\\_loss\\glm_distribution.py\", line 156, in deviance\n",
      "    return np.sum(weights * self.unit_deviance(y, y_pred))\n",
      "  File \"C:\\Python39\\lib\\site-packages\\sklearn\\_loss\\glm_distribution.py\", line 329, in unit_deviance\n",
      "    np.power(y, 2 - p) / ((1 - p) * (2 - p))\n",
      "ValueError: Integers to negative integer powers are not allowed.\n",
      "\n",
      "  warnings.warn(some_fits_failed_message, FitFailedWarning)\n",
      "C:\\Python39\\lib\\site-packages\\sklearn\\model_selection\\_search.py:969: UserWarning: One or more of the test scores are non-finite: [-560.65897321 -901.5454196  -774.03111765 -465.15849818 -371.27486731\n",
      " -482.08309649 -545.17227223 -561.7462723  -582.58852225           nan]\n",
      "  warnings.warn(\n"
     ]
    },
    {
     "data": {
      "text/plain": [
       "{'power': 1.5}"
      ]
     },
     "execution_count": 93,
     "metadata": {},
     "output_type": "execute_result"
    }
   ],
   "source": [
    "# estimator = ElasticNet(max_iter=10000)\n",
    "# param = [{\n",
    "#     # 'alpha': [0.001, 0.01, 0.1, 0.3, 0.5, 0.7, 0.9, 0.99],\n",
    "#     # 'l1_ratio': [0.001, 0.01, 0.1, 0.3, 0.5, 0.7, 0.9, 0.99]\n",
    "#     'alpha': np.linspace(0, 1, 20),\n",
    "#     'l1_ratio': np.linspace(0, 1, 20),\n",
    "# }]\n",
    "\n",
    "# estimator = SVR(kernel='rbf')\n",
    "# param = [{\n",
    "#     'gamma': np.logspace(-2, 10, 20),\n",
    "#     'C': np.logspace(-9, 3, 20)\n",
    "# }]\n",
    "\n",
    "# estimator = KNeighborsRegressor()\n",
    "# param = [{'n_neighbors': [1, 2, 3, 4, 5, 6, 7]}]\n",
    "\n",
    "estimator = TweedieRegressor(max_iter=10000)\n",
    "param = [{\n",
    "    'power': [0, 1, 1.1, 1.3, 1.5, 1.7, 1.9, 2, 2.5, 3], \n",
    "}]\n",
    "\n",
    "gscv = GridSearchCV(\n",
    "    estimator = estimator,\n",
    "    param_grid = param,\n",
    "    cv = 3,\n",
    "    scoring = 'neg_root_mean_squared_error'\n",
    ")\n",
    "\n",
    "gscv.fit(X_train.values, y_train.values)\n",
    "\n",
    "gscv.best_params_"
   ]
  },
  {
   "cell_type": "code",
   "execution_count": null,
   "metadata": {},
   "outputs": [],
   "source": [
    "pipe = make_pipeline(\n",
    "    # StandardScaler(),\n",
    "    # MinMaxScaler(),\n",
    "    # MultinomialNB()\n",
    "    # GaussianNB()\n",
    "    # ComplementNB()\n",
    "    # DecisionTreeClassifier()\n",
    "    # NearestCentroid()\n",
    "    # KNeighborsRegressor()\n",
    "    # LinearRegression()\n",
    "    # MLPRegressor(random_state=11, max_iter=10000)\n",
    "    # ElasticNetCV()\n",
    "    # SVC()\n",
    "    # TweedieRegressor(power=0, link='identity')\n",
    "    # GammaRegressor(alpha=5.5)\n",
    "    # SVR(kernel='rbf')\n",
    "    # LogisticRegression()\n",
    "    # KNeighborsClassifier(n_neighbors=5)\n",
    "    gscv\n",
    ")\n",
    "\n",
    "pipe.fit(X_train.values, y_train.values)\n",
    "# pipe.fit(X_train, y_train)"
   ]
  },
  {
   "cell_type": "code",
   "execution_count": 96,
   "metadata": {},
   "outputs": [
    {
     "name": "stdout",
     "output_type": "stream",
     "text": [
      "RMSE: 158.45279119358244\n",
      "MAE: 125.19444444444444\n",
      "MAPE: 0.6221069826061377\n",
      "EVS: 0.914489075842966\n"
     ]
    },
    {
     "data": {
      "image/png": "[encoded data removed]",
      "text/plain": [
       "<Figure size 360x360 with 1 Axes>"
      ]
     },
     "metadata": {
      "needs_background": "light"
     },
     "output_type": "display_data"
    }
   ],
   "source": [
    "# y_pred = pipe.predict(X_test)\n",
    "y_pred = gscv.predict(X_test.values)\n",
    "# y_pred = search.predict(X_test.values)\n",
    "\n",
    "print(f'RMSE: {mean_squared_error(y_test, y_pred)**(1/2)}')\n",
    "print(f'MAE: {mean_absolute_error(y_test, y_pred)}')\n",
    "print(f'MAPE: {mean_absolute_percentage_error(y_test, y_pred)}')\n",
    "print(f'EVS: {explained_variance_score(y_test, y_pred)}')\n",
    "\n",
    "fig, ax = plt.subplots(figsize=(5, 5))\n",
    "plt.scatter(y_test, y_pred)\n",
    "ax.plot([0, 1], [0, 1], transform=ax.transAxes, ls='--', c='red')\n",
    "plt.xlabel('True')\n",
    "plt.ylabel('Predict')\n",
    "plt.xlim([0, 1200])\n",
    "plt.ylim([0, 1200]);"
   ]
  },
  {
   "cell_type": "code",
   "execution_count": 90,
   "metadata": {},
   "outputs": [
    {
     "data": {
      "text/html": [
       "<div>\n",
       "<style scoped>\n",
       "    .dataframe tbody tr th:only-of-type {\n",
       "        vertical-align: middle;\n",
       "    }\n",
       "\n",
       "    .dataframe tbody tr th {\n",
       "        vertical-align: top;\n",
       "    }\n",
       "\n",
       "    .dataframe thead th {\n",
       "        text-align: right;\n",
       "    }\n",
       "</style>\n",
       "<table border=\"1\" class=\"dataframe\">\n",
       "  <thead>\n",
       "    <tr style=\"text-align: right;\">\n",
       "      <th></th>\n",
       "      <th>True</th>\n",
       "      <th>Predict</th>\n",
       "    </tr>\n",
       "  </thead>\n",
       "  <tbody>\n",
       "    <tr>\n",
       "      <th>47</th>\n",
       "      <td>583</td>\n",
       "      <td>711.902944</td>\n",
       "    </tr>\n",
       "    <tr>\n",
       "      <th>18</th>\n",
       "      <td>321</td>\n",
       "      <td>237.643363</td>\n",
       "    </tr>\n",
       "    <tr>\n",
       "      <th>56</th>\n",
       "      <td>246</td>\n",
       "      <td>213.659418</td>\n",
       "    </tr>\n",
       "    <tr>\n",
       "      <th>13</th>\n",
       "      <td>75</td>\n",
       "      <td>45.891008</td>\n",
       "    </tr>\n",
       "    <tr>\n",
       "      <th>37</th>\n",
       "      <td>490</td>\n",
       "      <td>507.732221</td>\n",
       "    </tr>\n",
       "    <tr>\n",
       "      <th>23</th>\n",
       "      <td>217</td>\n",
       "      <td>157.326167</td>\n",
       "    </tr>\n",
       "    <tr>\n",
       "      <th>6</th>\n",
       "      <td>180</td>\n",
       "      <td>161.558253</td>\n",
       "    </tr>\n",
       "    <tr>\n",
       "      <th>28</th>\n",
       "      <td>1078</td>\n",
       "      <td>1172.889576</td>\n",
       "    </tr>\n",
       "    <tr>\n",
       "      <th>12</th>\n",
       "      <td>2048</td>\n",
       "      <td>1752.127155</td>\n",
       "    </tr>\n",
       "    <tr>\n",
       "      <th>33</th>\n",
       "      <td>619</td>\n",
       "      <td>591.293825</td>\n",
       "    </tr>\n",
       "    <tr>\n",
       "      <th>25</th>\n",
       "      <td>23</td>\n",
       "      <td>16.740890</td>\n",
       "    </tr>\n",
       "    <tr>\n",
       "      <th>31</th>\n",
       "      <td>822</td>\n",
       "      <td>712.207578</td>\n",
       "    </tr>\n",
       "  </tbody>\n",
       "</table>\n",
       "</div>"
      ],
      "text/plain": [
       "    True      Predict\n",
       "47   583   711.902944\n",
       "18   321   237.643363\n",
       "56   246   213.659418\n",
       "13    75    45.891008\n",
       "37   490   507.732221\n",
       "23   217   157.326167\n",
       "6    180   161.558253\n",
       "28  1078  1172.889576\n",
       "12  2048  1752.127155\n",
       "33   619   591.293825\n",
       "25    23    16.740890\n",
       "31   822   712.207578"
      ]
     },
     "execution_count": 90,
     "metadata": {},
     "output_type": "execute_result"
    }
   ],
   "source": [
    "pd.DataFrame(\n",
    "    {\n",
    "        \"True\": y_test,\n",
    "        \"Predict\": y_pred\n",
    "    }\n",
    ")"
   ]
  }
 ],
 "metadata": {
  "interpreter": {
   "hash": "1a5b70290eb3ff6f004490bb84661e454893b5d3538fd7f3fd74491435a53f1f"
  },
  "kernelspec": {
   "display_name": "Python 3.9.7 64-bit ('prml-env': venv)",
   "name": "python3"
  },
  "language_info": {
   "codemirror_mode": {
    "name": "ipython",
    "version": 3
   },
   "file_extension": ".py",
   "mimetype": "text/x-python",
   "name": "python",
   "nbconvert_exporter": "python",
   "pygments_lexer": "ipython3",
   "version": "3.9.7"
  },
  "orig_nbformat": 4
 },
 "nbformat": 4,
 "nbformat_minor": 2
}
