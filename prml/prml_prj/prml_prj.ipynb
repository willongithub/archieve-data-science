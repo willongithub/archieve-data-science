{
 "cells": [
  {
   "cell_type": "markdown",
   "metadata": {},
   "source": [
    "# **Pattern Recognition and Machine Learning**\n",
    "## Unit Project\n",
    "## **Movie Box-Office Prediction with Public Opinion Analysis**\n",
    "> ### Author:"
   ]
  },
  {
   "cell_type": "markdown",
   "metadata": {},
   "source": [
    "## Introduction\n",
    "\n",
    "This project try to provide a machine learning based prediction of movie box-office using public opinion analysis in addition to movie metadata.\n",
    "\n",
    "### Features selected:\n",
    "+ _Trend_: Measurement of movie popularity on multiple platforms.\n",
    "+ _Sentiment_: Measurement of public opinion (positive/negative).\n",
    "+ _Public_: Measurement of movie rating from the public.\n",
    "+ _Critic_: Measurement of movie rating from professiontal critics.\n",
    "+ _Prospect_: Measurement of movie metadata (budget, etc.).\n",
    "\n",
    "## Dataset\n",
    "\n",
    "Data points are collected from _IMDB_, _Rotten Tomatoes_, _Box Office Mojo_ and _YouTube_. They are organized and stored as CSV file by the author. \n",
    "\n",
    "### Shape:\n",
    "+ Entries: 60\n",
    "+ Columns: 13\n",
    "\n",
    "### Attributes:\n",
    "+ `movie`: Movie name.\n",
    "+ `box`: Box-office value in million USD from _Box Office Mojo_.\n",
    "+ `budget`: Budget value in million USD from _Box Office Mojo_.\n",
    "+ `pop_rating`: Count of user ratings for the movie on _IMDB_.\n",
    "+ `pop_review`: Count of user reviews for the movie on _IMDB_.\n",
    "+ `pop_trailer`: Count of views for the movie trailer (Most popular) on _YouTube_.\n",
    "+ `critic_rt`: Tomatometer score (Critic rating) of the movie on _Rotten Tomatoes_\n",
    "+ `critic_ms`: Metascore (Critic rating) of the movie on _IMDB_.\n",
    "+ `public_rt`: Audience score of the movie on _Rotten Tomatoes_.\n",
    "+ `public_imdb`: User Rating of the movie on _IMDB_.\n",
    "+ `opinion_pos`: Count of positive opinion from the trailer on _YouTube_.\n",
    "+ `opinion_neg`: Count of negative opinion from the trailer on _YouTube_.\n",
    "+ `year`: Release year of the movie.\n"
   ]
  },
  {
   "cell_type": "markdown",
   "metadata": {},
   "source": [
    "## Import Library"
   ]
  },
  {
   "cell_type": "code",
   "execution_count": 12,
   "metadata": {},
   "outputs": [],
   "source": [
    "import numpy as np\n",
    "import pandas as pd\n",
    "import matplotlib.pyplot as plt\n",
    "from scipy.stats import randint\n",
    "\n",
    "from sklearn.pipeline import make_pipeline\n",
    "from sklearn.preprocessing import StandardScaler, MinMaxScaler\n",
    "from sklearn.model_selection import train_test_split, GridSearchCV, RandomizedSearchCV\n",
    "from sklearn.feature_selection import f_regression, chi2\n",
    "from sklearn.metrics import mean_squared_error, explained_variance_score, mean_absolute_error, mean_absolute_percentage_error\n",
    "\n",
    "from sklearn.neighbors import KNeighborsRegressor\n",
    "from sklearn.svm import SVR\n",
    "from sklearn.tree import DecisionTreeClassifier\n",
    "from sklearn.linear_model import ElasticNetCV, LinearRegression, TweedieRegressor, ElasticNet\n",
    "from sklearn.ensemble import RandomForestRegressor"
   ]
  },
  {
   "cell_type": "markdown",
   "metadata": {},
   "source": [
    "## Load and Explore the Dataset"
   ]
  },
  {
   "cell_type": "code",
   "execution_count": 5,
   "metadata": {},
   "outputs": [
    {
     "name": "stdout",
     "output_type": "stream",
     "text": [
      "<class 'pandas.core.frame.DataFrame'>\n",
      "RangeIndex: 60 entries, 0 to 59\n",
      "Data columns (total 13 columns):\n",
      " #   Column       Non-Null Count  Dtype  \n",
      "---  ------       --------------  -----  \n",
      " 0   movie        60 non-null     object \n",
      " 1   box          60 non-null     int64  \n",
      " 2   pop_rating   60 non-null     int64  \n",
      " 3   pop_trailer  60 non-null     int64  \n",
      " 4   pop_review   60 non-null     float64\n",
      " 5   budget       60 non-null     float64\n",
      " 6   critic_rt    60 non-null     int64  \n",
      " 7   critic_ms    60 non-null     int64  \n",
      " 8   public_rt    60 non-null     int64  \n",
      " 9   public_imdb  60 non-null     float64\n",
      " 10  opinion_pos  60 non-null     int64  \n",
      " 11  opinion_neg  60 non-null     float64\n",
      " 12  year         60 non-null     int64  \n",
      "dtypes: float64(4), int64(8), object(1)\n",
      "memory usage: 6.2+ KB\n"
     ]
    }
   ],
   "source": [
    "df = pd.read_csv(\"assets/main_dataset.csv\")\n",
    "df.info()"
   ]
  },
  {
   "cell_type": "code",
   "execution_count": 6,
   "metadata": {},
   "outputs": [
    {
     "data": {
      "text/html": [
       "<div>\n",
       "<style scoped>\n",
       "    .dataframe tbody tr th:only-of-type {\n",
       "        vertical-align: middle;\n",
       "    }\n",
       "\n",
       "    .dataframe tbody tr th {\n",
       "        vertical-align: top;\n",
       "    }\n",
       "\n",
       "    .dataframe thead th {\n",
       "        text-align: right;\n",
       "    }\n",
       "</style>\n",
       "<table border=\"1\" class=\"dataframe\">\n",
       "  <thead>\n",
       "    <tr style=\"text-align: right;\">\n",
       "      <th></th>\n",
       "      <th>movie</th>\n",
       "      <th>box</th>\n",
       "      <th>pop_rating</th>\n",
       "      <th>pop_trailer</th>\n",
       "      <th>pop_review</th>\n",
       "      <th>budget</th>\n",
       "      <th>critic_rt</th>\n",
       "      <th>critic_ms</th>\n",
       "      <th>public_rt</th>\n",
       "      <th>public_imdb</th>\n",
       "      <th>opinion_pos</th>\n",
       "      <th>opinion_neg</th>\n",
       "      <th>year</th>\n",
       "    </tr>\n",
       "  </thead>\n",
       "  <tbody>\n",
       "    <tr>\n",
       "      <th>55</th>\n",
       "      <td>Dark Phoenix</td>\n",
       "      <td>252</td>\n",
       "      <td>171</td>\n",
       "      <td>19819</td>\n",
       "      <td>2.2</td>\n",
       "      <td>200.0</td>\n",
       "      <td>22</td>\n",
       "      <td>43</td>\n",
       "      <td>64</td>\n",
       "      <td>5.7</td>\n",
       "      <td>244</td>\n",
       "      <td>15.0</td>\n",
       "      <td>2019</td>\n",
       "    </tr>\n",
       "    <tr>\n",
       "      <th>56</th>\n",
       "      <td>Glass</td>\n",
       "      <td>246</td>\n",
       "      <td>225</td>\n",
       "      <td>27603</td>\n",
       "      <td>2.0</td>\n",
       "      <td>20.0</td>\n",
       "      <td>36</td>\n",
       "      <td>43</td>\n",
       "      <td>67</td>\n",
       "      <td>6.6</td>\n",
       "      <td>259</td>\n",
       "      <td>7.8</td>\n",
       "      <td>2019</td>\n",
       "    </tr>\n",
       "    <tr>\n",
       "      <th>57</th>\n",
       "      <td>Charlies Angels</td>\n",
       "      <td>73</td>\n",
       "      <td>65</td>\n",
       "      <td>24106</td>\n",
       "      <td>1.2</td>\n",
       "      <td>48.0</td>\n",
       "      <td>52</td>\n",
       "      <td>52</td>\n",
       "      <td>78</td>\n",
       "      <td>4.9</td>\n",
       "      <td>289</td>\n",
       "      <td>58.0</td>\n",
       "      <td>2019</td>\n",
       "    </tr>\n",
       "    <tr>\n",
       "      <th>58</th>\n",
       "      <td>Fast &amp; Furious Presents Hobbs &amp; Shaw</td>\n",
       "      <td>759</td>\n",
       "      <td>195</td>\n",
       "      <td>120706</td>\n",
       "      <td>1.3</td>\n",
       "      <td>200.0</td>\n",
       "      <td>67</td>\n",
       "      <td>60</td>\n",
       "      <td>88</td>\n",
       "      <td>6.4</td>\n",
       "      <td>449</td>\n",
       "      <td>20.0</td>\n",
       "      <td>2019</td>\n",
       "    </tr>\n",
       "    <tr>\n",
       "      <th>59</th>\n",
       "      <td>Alita Battle Angel</td>\n",
       "      <td>404</td>\n",
       "      <td>248</td>\n",
       "      <td>19488</td>\n",
       "      <td>2.8</td>\n",
       "      <td>170.0</td>\n",
       "      <td>61</td>\n",
       "      <td>53</td>\n",
       "      <td>92</td>\n",
       "      <td>7.3</td>\n",
       "      <td>160</td>\n",
       "      <td>6.6</td>\n",
       "      <td>2019</td>\n",
       "    </tr>\n",
       "  </tbody>\n",
       "</table>\n",
       "</div>"
      ],
      "text/plain": [
       "                                   movie  box  pop_rating  pop_trailer  \\\n",
       "55                          Dark Phoenix  252         171        19819   \n",
       "56                                 Glass  246         225        27603   \n",
       "57                       Charlies Angels   73          65        24106   \n",
       "58  Fast & Furious Presents Hobbs & Shaw  759         195       120706   \n",
       "59                    Alita Battle Angel  404         248        19488   \n",
       "\n",
       "    pop_review  budget  critic_rt  critic_ms  public_rt  public_imdb  \\\n",
       "55         2.2   200.0         22         43         64          5.7   \n",
       "56         2.0    20.0         36         43         67          6.6   \n",
       "57         1.2    48.0         52         52         78          4.9   \n",
       "58         1.3   200.0         67         60         88          6.4   \n",
       "59         2.8   170.0         61         53         92          7.3   \n",
       "\n",
       "    opinion_pos  opinion_neg  year  \n",
       "55          244         15.0  2019  \n",
       "56          259          7.8  2019  \n",
       "57          289         58.0  2019  \n",
       "58          449         20.0  2019  \n",
       "59          160          6.6  2019  "
      ]
     },
     "execution_count": 6,
     "metadata": {},
     "output_type": "execute_result"
    }
   ],
   "source": [
    "df.tail(5)"
   ]
  },
  {
   "cell_type": "markdown",
   "metadata": {},
   "source": [
    "##  Data Wrangling"
   ]
  },
  {
   "cell_type": "code",
   "execution_count": 7,
   "metadata": {},
   "outputs": [
    {
     "data": {
      "text/plain": [
       "array([[<AxesSubplot:title={'center':'ratio'}>]], dtype=object)"
      ]
     },
     "execution_count": 7,
     "metadata": {},
     "output_type": "execute_result"
    },
    {
     "data": {
      "image/png": "[encoded data removed]",
      "text/plain": [
       "<Figure size 432x288 with 1 Axes>"
      ]
     },
     "metadata": {
      "needs_background": "light"
     },
     "output_type": "display_data"
    }
   ],
   "source": [
    "# Get sentiment score as a ratio of positive/ngative opinion.\n",
    "df[\"ratio\"] = (df[\"opinion_pos\"] / df[\"opinion_neg\"])\n",
    "\n",
    "df.hist(column=\"ratio\", bins=30)"
   ]
  },
  {
   "cell_type": "code",
   "execution_count": 8,
   "metadata": {},
   "outputs": [
    {
     "data": {
      "text/plain": [
       "(array([76.88283286, 65.43177827, 44.61918649,  1.2423821 , 81.61660608]),\n",
       " array([3.20465782e-12, 4.34510323e-11, 1.00932043e-08, 2.69609907e-01,\n",
       "        1.16456916e-12]))"
      ]
     },
     "execution_count": 8,
     "metadata": {},
     "output_type": "execute_result"
    }
   ],
   "source": [
    "# Extract corresponding columns to preprocess.\n",
    "cols = ['pop_rating', 'pop_trailer', 'pop_review', 'budget',\n",
    "        'critic_rt', 'critic_ms', 'public_rt', 'public_imdb',\n",
    "        'ratio']\n",
    "X = df[cols]\n",
    "\n",
    "# Apply min-max scaling for all values.\n",
    "X = pd.DataFrame(MinMaxScaler().fit_transform(X))\n",
    "X.columns = cols\n",
    "\n",
    "# Calulate for final values of the features from corresponding columns.\n",
    "X['trend'] = (X['pop_trailer'] + X['pop_rating'] + X['pop_review'])/3\n",
    "X['sentiment'] = X['ratio'] * X['pop_trailer']\n",
    "X['public'] = (X['public_imdb'] + X['public_rt'])/2 * X['trend']\n",
    "X['critic'] = (X['critic_ms'] + X['critic_rt'])/2\n",
    "X['prospect'] = X['budget']\n",
    "\n",
    "# Select final features and target.\n",
    "features = [\n",
    "    'trend', 'sentiment', 'public', 'critic', 'prospect'\n",
    "]\n",
    "\n",
    "X = X[features]\n",
    "y = df['box']\n",
    "\n",
    "# Apply f-test for the features.\n",
    "f_regression(X, y)"
   ]
  },
  {
   "cell_type": "markdown",
   "metadata": {},
   "source": [
    "## Data Split"
   ]
  },
  {
   "cell_type": "code",
   "execution_count": 10,
   "metadata": {},
   "outputs": [
    {
     "name": "stdout",
     "output_type": "stream",
     "text": [
      "Train set: (48, 5)\n",
      "Test set: (12, 5)\n"
     ]
    }
   ],
   "source": [
    "X_train, X_test, y_train, y_test = train_test_split(\n",
    "        X, y, test_size=0.2, random_state=3)\n",
    "\n",
    "print(f'Train set: {X_train.shape}')\n",
    "print(f'Test set: {X_test.shape}')"
   ]
  },
  {
   "cell_type": "markdown",
   "metadata": {},
   "source": [
    "## Fit Estimators (Models)"
   ]
  },
  {
   "cell_type": "markdown",
   "metadata": {},
   "source": [
    "### Grid Search with Cross-Validation"
   ]
  },
  {
   "cell_type": "code",
   "execution_count": 14,
   "metadata": {},
   "outputs": [
    {
     "data": {
      "text/plain": [
       "{'C': 1000.0, 'gamma': 0.18329807108324356}"
      ]
     },
     "execution_count": 14,
     "metadata": {},
     "output_type": "execute_result"
    }
   ],
   "source": [
    "# Select models to find optiaml hyper-parameters.\n",
    "\n",
    "'''1 Penelized Linear Model.\n",
    "\n",
    "For l1_ratio = 0 the penalty is an L2 penalty. For l1_ratio = 1 it is an L1 penalty. For 0 < l1_ratio < 1, the penalty is a combination of L1 and L2.\n",
    "'''\n",
    "# estimator = ElasticNet(max_iter=10000)\n",
    "# param = [{\n",
    "#     'alpha': np.linspace(0, 1, 20),\n",
    "#     'l1_ratio': np.linspace(0, 1, 20),\n",
    "# }]\n",
    "\n",
    "'''2 Support Vector Machine.\n",
    "\n",
    "Linear kernel: 'linear'\n",
    "Radial basis function kernel: 'rbf'\n",
    "'''\n",
    "# estimator = SVR(kernel='linear')\n",
    "estimator = SVR(kernel='rbf')\n",
    "param = [{\n",
    "    'gamma': np.logspace(-2, 10, 20),\n",
    "    'C': np.logspace(-9, 3, 20)\n",
    "}]\n",
    "\n",
    "'''3 KNN.'''\n",
    "# estimator = KNeighborsRegressor()\n",
    "# param = [{\n",
    "#     'n_neighbors': [1, 2, 3, 4, 5, 6, 7]\n",
    "# }]\n",
    "\n",
    "'''4 GLM.\n",
    "\n",
    "| Power  | Distribution     |\n",
    "| ------ | ---------------- |\n",
    "| 0      | Normal           |\n",
    "| 2      | Poisson          |\n",
    "| (1, 2) | Compound         |\n",
    "| 2      | Gamma            |\n",
    "| 3      | Inverse Gaussian | \n",
    "'''\n",
    "# estimator = TweedieRegressor(max_iter=10000)\n",
    "# param = [{\n",
    "#     'power': [0, 1, 1.1, 1.3, 1.5, 1.7, 1.9, 2, 2.5, 3], \n",
    "# }]\n",
    "\n",
    "gscv = GridSearchCV(\n",
    "    estimator = estimator,\n",
    "    param_grid = param,\n",
    "    cv = 3,\n",
    "    scoring = 'neg_root_mean_squared_error'\n",
    ")\n",
    "\n",
    "gscv.fit(X_train.values, y_train.values);\n",
    "\n",
    "gscv.best_params_"
   ]
  },
  {
   "cell_type": "markdown",
   "metadata": {},
   "source": [
    "### Randomized Search with Cross-Validation"
   ]
  },
  {
   "cell_type": "code",
   "execution_count": null,
   "metadata": {},
   "outputs": [],
   "source": [
    "# Ensamble method for decision trees model.\n",
    "param = {\n",
    "    'n_estimators': randint(1, 10),\n",
    "    'max_depth': randint(5, 10)\n",
    "}\n",
    "\n",
    "search = RandomizedSearchCV(\n",
    "    estimator = RandomForestRegressor(random_state=0),\n",
    "    n_iter = 10,\n",
    "    param_distributions = param,\n",
    "    random_state = 0\n",
    ")\n",
    "\n",
    "search.fit(X_train.values, y_train.values);"
   ]
  },
  {
   "cell_type": "code",
   "execution_count": null,
   "metadata": {},
   "outputs": [],
   "source": [
    "# Alternative work flow using pipe.\n",
    "\n",
    "# pipe = make_pipeline(\n",
    "#     # StandardScaler(),\n",
    "#     # MinMaxScaler(),\n",
    "#     gscv\n",
    "#     search\n",
    "# )\n",
    "\n",
    "# pipe.fit(X_train.values, y_train.values)"
   ]
  },
  {
   "cell_type": "markdown",
   "metadata": {},
   "source": [
    "## Predict and Evaluation"
   ]
  },
  {
   "cell_type": "markdown",
   "metadata": {},
   "source": [
    "### Calculate the metrics"
   ]
  },
  {
   "cell_type": "code",
   "execution_count": 15,
   "metadata": {},
   "outputs": [
    {
     "name": "stdout",
     "output_type": "stream",
     "text": [
      "RMSE: 107.65647421349308\n",
      "MAE: 75.33975709115721\n",
      "MAPE: 0.17474654847950985\n",
      "EVS: 0.9644974654268472\n"
     ]
    }
   ],
   "source": [
    "y_pred = gscv.predict(X_test.values)\n",
    "# y_pred = search.predict(X_test.values)\n",
    "# y_pred = pipe.predict(X_test.values)\n",
    "\n",
    "print(f'RMSE: {mean_squared_error(y_test, y_pred)**(1/2)}')\n",
    "print(f'MAE: {mean_absolute_error(y_test, y_pred)}')\n",
    "print(f'MAPE: {mean_absolute_percentage_error(y_test, y_pred)}')\n",
    "print(f'EVS: {explained_variance_score(y_test, y_pred)}')"
   ]
  },
  {
   "cell_type": "markdown",
   "metadata": {},
   "source": [
    "### Display the results"
   ]
  },
  {
   "cell_type": "code",
   "execution_count": 24,
   "metadata": {},
   "outputs": [
    {
     "data": {
      "image/png": "[encoded data removed]",
      "text/plain": [
       "<Figure size 360x360 with 1 Axes>"
      ]
     },
     "metadata": {
      "needs_background": "light"
     },
     "output_type": "display_data"
    }
   ],
   "source": [
    "# Scatter of predictions vs observations.\n",
    "ig, ax = plt.subplots(figsize=(5, 5))\n",
    "plt.scatter(y_test, y_pred)\n",
    "plt.legend(['prediction'])\n",
    "ax.plot([0, 1], [0, 1], transform=ax.transAxes, ls='--', c='red')\n",
    "plt.title('Prediction vs True')\n",
    "plt.xlabel('True')\n",
    "plt.ylabel('Predict')\n",
    "plt.xlim([0, 1200])\n",
    "plt.ylim([0, 1200])\n",
    "plt.show()"
   ]
  },
  {
   "cell_type": "code",
   "execution_count": 18,
   "metadata": {},
   "outputs": [
    {
     "data": {
      "text/html": [
       "<div>\n",
       "<style scoped>\n",
       "    .dataframe tbody tr th:only-of-type {\n",
       "        vertical-align: middle;\n",
       "    }\n",
       "\n",
       "    .dataframe tbody tr th {\n",
       "        vertical-align: top;\n",
       "    }\n",
       "\n",
       "    .dataframe thead th {\n",
       "        text-align: right;\n",
       "    }\n",
       "</style>\n",
       "<table border=\"1\" class=\"dataframe\">\n",
       "  <thead>\n",
       "    <tr style=\"text-align: right;\">\n",
       "      <th></th>\n",
       "      <th>True</th>\n",
       "      <th>Predict</th>\n",
       "    </tr>\n",
       "  </thead>\n",
       "  <tbody>\n",
       "    <tr>\n",
       "      <th>47</th>\n",
       "      <td>583</td>\n",
       "      <td>711.902944</td>\n",
       "    </tr>\n",
       "    <tr>\n",
       "      <th>18</th>\n",
       "      <td>321</td>\n",
       "      <td>237.643363</td>\n",
       "    </tr>\n",
       "    <tr>\n",
       "      <th>56</th>\n",
       "      <td>246</td>\n",
       "      <td>213.659418</td>\n",
       "    </tr>\n",
       "    <tr>\n",
       "      <th>13</th>\n",
       "      <td>75</td>\n",
       "      <td>45.891008</td>\n",
       "    </tr>\n",
       "    <tr>\n",
       "      <th>37</th>\n",
       "      <td>490</td>\n",
       "      <td>507.732221</td>\n",
       "    </tr>\n",
       "    <tr>\n",
       "      <th>23</th>\n",
       "      <td>217</td>\n",
       "      <td>157.326167</td>\n",
       "    </tr>\n",
       "    <tr>\n",
       "      <th>6</th>\n",
       "      <td>180</td>\n",
       "      <td>161.558253</td>\n",
       "    </tr>\n",
       "    <tr>\n",
       "      <th>28</th>\n",
       "      <td>1078</td>\n",
       "      <td>1172.889576</td>\n",
       "    </tr>\n",
       "    <tr>\n",
       "      <th>12</th>\n",
       "      <td>2048</td>\n",
       "      <td>1752.127155</td>\n",
       "    </tr>\n",
       "    <tr>\n",
       "      <th>33</th>\n",
       "      <td>619</td>\n",
       "      <td>591.293825</td>\n",
       "    </tr>\n",
       "    <tr>\n",
       "      <th>25</th>\n",
       "      <td>23</td>\n",
       "      <td>16.740890</td>\n",
       "    </tr>\n",
       "    <tr>\n",
       "      <th>31</th>\n",
       "      <td>822</td>\n",
       "      <td>712.207578</td>\n",
       "    </tr>\n",
       "  </tbody>\n",
       "</table>\n",
       "</div>"
      ],
      "text/plain": [
       "    True      Predict\n",
       "47   583   711.902944\n",
       "18   321   237.643363\n",
       "56   246   213.659418\n",
       "13    75    45.891008\n",
       "37   490   507.732221\n",
       "23   217   157.326167\n",
       "6    180   161.558253\n",
       "28  1078  1172.889576\n",
       "12  2048  1752.127155\n",
       "33   619   591.293825\n",
       "25    23    16.740890\n",
       "31   822   712.207578"
      ]
     },
     "execution_count": 18,
     "metadata": {},
     "output_type": "execute_result"
    }
   ],
   "source": [
    "# Compare values.\n",
    "pd.DataFrame(\n",
    "    {\n",
    "        \"True\": y_test,\n",
    "        \"Predict\": y_pred\n",
    "    }\n",
    ")"
   ]
  }
 ],
 "metadata": {
  "interpreter": {
   "hash": "1a5b70290eb3ff6f004490bb84661e454893b5d3538fd7f3fd74491435a53f1f"
  },
  "kernelspec": {
   "display_name": "Python 3.9.7 64-bit ('prml-env': venv)",
   "name": "python3"
  },
  "language_info": {
   "codemirror_mode": {
    "name": "ipython",
    "version": 3
   },
   "file_extension": ".py",
   "mimetype": "text/x-python",
   "name": "python",
   "nbconvert_exporter": "python",
   "pygments_lexer": "ipython3",
   "version": "3.9.7"
  },
  "orig_nbformat": 4
 },
 "nbformat": 4,
 "nbformat_minor": 2
}
