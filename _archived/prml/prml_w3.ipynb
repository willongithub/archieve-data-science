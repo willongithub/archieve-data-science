{
    "cells": [
        {
            "cell_type": "markdown",
            "metadata": {},
            "source": [
                "# Pattern Recognition and Machine Learning\n",
                "## Week 3 Tutorial"
            ]
        },
        {
            "cell_type": "markdown",
            "metadata": {},
            "source": [
                "### 1. Read a csv file"
            ]
        },
        {
            "cell_type": "code",
            "execution_count": null,
            "metadata": {},
            "outputs": [],
            "source": [
                "import pandas as pd\n",
                "import matplotlib.pyplot as plt\n",
                "\n",
                "# Exploring the dataset\n",
                "iris = pd.read_csv(\"data/iris.data\", sep=',', names=[\"sepal_length\",\n",
                "                                                     \"sepal_width\",\n",
                "                                                     \"petal_length\",\n",
                "                                                     \"petal_width\",\n",
                "                                                     \"species\"])"
            ]
        },
        {
            "cell_type": "markdown",
            "metadata": {},
            "source": [
                "### 2. Explore the data"
            ]
        },
        {
            "cell_type": "code",
            "execution_count": null,
            "metadata": {},
            "outputs": [],
            "source": [
                "iris.head()"
            ]
        },
        {
            "cell_type": "code",
            "execution_count": null,
            "metadata": {},
            "outputs": [],
            "source": [
                "iris.info()"
            ]
        },
        {
            "cell_type": "code",
            "execution_count": null,
            "metadata": {},
            "outputs": [],
            "source": [
                "iris.isnull().sum()"
            ]
        },
        {
            "cell_type": "code",
            "execution_count": null,
            "metadata": {},
            "outputs": [],
            "source": [
                "iris[\"species\"].value_counts()"
            ]
        },
        {
            "cell_type": "code",
            "execution_count": null,
            "metadata": {},
            "outputs": [],
            "source": [
                "iris[\"species\"]"
            ]
        },
        {
            "cell_type": "markdown",
            "metadata": {},
            "source": [
                "### 3. Visualize data using Matplotlib"
            ]
        },
        {
            "cell_type": "code",
            "execution_count": null,
            "metadata": {},
            "outputs": [],
            "source": [
                "import seaborn as sns"
            ]
        },
        {
            "cell_type": "code",
            "execution_count": null,
            "metadata": {},
            "outputs": [],
            "source": [
                "# pie chart\n",
                "iplot = iris[\"species\"].value_counts()\\\n",
                "                       .plot(kind='pie', autopct=\"%.2f\", figsize=(8, 8))\n",
                "iplot.set_ylabel('')\n",
                "iplot.set_facecolor('white')"
            ]
        },
        {
            "cell_type": "code",
            "execution_count": null,
            "metadata": {},
            "outputs": [],
            "source": [
                "# boxplot\n",
                "iris.boxplot(by=\"species\", figsize=(12, 6))"
            ]
        },
        {
            "cell_type": "code",
            "execution_count": null,
            "metadata": {},
            "outputs": [],
            "source": [
                "# scatterplot\n",
                "sns.set(style='darkgrid')\n",
                "sc = iris[iris.species == \"Iris-setosa\"].plot(kind='scatter', x=\"sepal_length\",\n",
                "                                              y=\"sepal_width\", color='red',\n",
                "                                              label=\"Setosa\")\n",
                "\n",
                "iris[iris.species == \"Iris-versicolor\"].plot(kind='scatter', x=\"sepal_length\",\n",
                "                                              y=\"sepal_width\", color='green',\n",
                "                                              label=\"Versicolor\", ax=sc)\n",
                "\n",
                "iris[iris.species == \"Iris-virginica\"].plot(kind='scatter', x=\"sepal_length\",\n",
                "                                              y=\"sepal_width\", color='orange',\n",
                "                                              label=\"Virginica\", ax=sc)\n",
                "\n",
                "\n",
                "sc.set_xlabel(\"Sepal Length in cm\")\n",
                "sc.set_ylabel(\"Sepal Width in cm\")\n",
                "sc.set_title(\"Sepal Length vs Sepal Width\")"
            ]
        },
        {
            "cell_type": "markdown",
            "metadata": {},
            "source": [
                "### 4. Linear regression on a multi-variable dataset"
            ]
        },
        {
            "cell_type": "code",
            "execution_count": null,
            "metadata": {},
            "outputs": [],
            "source": [
                "import numpy as np\n",
                "\n",
                "# metrics to evaluate\n",
                "from sklearn.metrics import mean_squared_error, mean_absolute_error\n",
                "\n",
                "# split the dataset into train/test sets\n",
                "from sklearn.model_selection import train_test_split\n",
                "\n",
                "# import linear regression\n",
                "from sklearn.linear_model import LinearRegression"
            ]
        },
        {
            "cell_type": "code",
            "execution_count": null,
            "metadata": {},
            "outputs": [],
            "source": [
                "# drop petal width from dataset\n",
                "X = iris.drop(labels=[\"petal_width\", \"species\"], axis='columns')\n",
                "\n",
                "# correct values\n",
                "y = iris[\"petal_width\"]\n",
                "\n",
                "# split data\n",
                "X_train, X_test, y_train, y_test = train_test_split(X, y,\n",
                "                                                    test_size=0.25,\n",
                "                                                    random_state=1)"
            ]
        },
        {
            "cell_type": "code",
            "execution_count": null,
            "metadata": {},
            "outputs": [],
            "source": [
                "X_train.shape"
            ]
        },
        {
            "cell_type": "code",
            "execution_count": null,
            "metadata": {},
            "outputs": [],
            "source": [
                "X_test.shape"
            ]
        },
        {
            "cell_type": "code",
            "execution_count": null,
            "metadata": {},
            "outputs": [],
            "source": [
                "lre = LinearRegression()\n",
                "\n",
                "# train the model\n",
                "lre.fit(X_train, y_train)\n",
                "\n",
                "# make a prediction\n",
                "result = lre.predict(X_test)\n",
                "\n",
                "# evaluate the result\n",
                "print(\"Mean Absolute Error:\", mean_absolute_error(y_test, result))\n",
                "print(\"Mean Squared Error:\", mean_squared_error(y_test, result))\n",
                "print(\"Mean Squared Root Error:\", np.sqrt(mean_squared_error(y_test, result)))\n",
                "abs(y_test - result)"
            ]
        },
        {
            "cell_type": "code",
            "execution_count": null,
            "metadata": {},
            "outputs": [],
            "source": [
                "# visualize the result\n",
                "plt.scatter(X_test[[\"sepal_length\"]], y_test,\n",
                "            color=\"red\", label = \"Actual petal_width\")\n",
                "plt.scatter(X_test[[\"sepal_length\"]], result,\n",
                "            color=\"yellow\", label = \"Actual petal_width\")\n",
                "plt.legend()\n",
                "plt.xlabel(\"Sepal Length\")"
            ]
        },
        {
            "cell_type": "code",
            "execution_count": null,
            "metadata": {},
            "outputs": [],
            "source": [
                "compare = pd.DataFrame(y_test)\n",
                "compare[\"predict\"] = np.round(result, 1)\n",
                "compare[\"bias\"] = compare[\"petal_width\"] - compare[\"predict\"]\n",
                "\n",
                "print(compare)"
            ]
        },
        {
            "cell_type": "markdown",
            "metadata": {},
            "source": [
                "### 5. Linear regression on Wine Quality dataset"
            ]
        },
        {
            "cell_type": "code",
            "execution_count": null,
            "metadata": {},
            "outputs": [],
            "source": [
                "# load wine dataset\n",
                "wine_red_data = pd.read_csv(\"data/winequality-red.csv\", sep=';')\n",
                "wine_white_data = pd.read_csv(\"data/winequality-white.csv\", sep=';')\n",
                "\n",
                "wine_dataset = pd.concat([wine_red_data, wine_white_data])"
            ]
        },
        {
            "cell_type": "code",
            "execution_count": null,
            "metadata": {},
            "outputs": [],
            "source": [
                "wine_dataset.head(5)"
            ]
        },
        {
            "cell_type": "code",
            "execution_count": null,
            "metadata": {},
            "outputs": [],
            "source": [
                "list(wine_dataset.columns)"
            ]
        },
        {
            "cell_type": "code",
            "execution_count": null,
            "metadata": {},
            "outputs": [],
            "source": [
                "wine_dataset.info()"
            ]
        },
        {
            "cell_type": "code",
            "execution_count": null,
            "metadata": {},
            "outputs": [],
            "source": [
                "# drop quality width from dataset\n",
                "X = wine_dataset.drop(columns=\"quality\")\n",
                "\n",
                "# correct values\n",
                "y = wine_dataset[\"quality\"]\n",
                "\n",
                "# split data\n",
                "X_train, X_test, y_train, y_test = train_test_split(X, y,\n",
                "                                                    test_size=0.25,\n",
                "                                                    random_state=1)"
            ]
        },
        {
            "cell_type": "code",
            "execution_count": null,
            "metadata": {},
            "outputs": [],
            "source": [
                "lre = LinearRegression()\n",
                "\n",
                "# train the model\n",
                "lre.fit(X_train, y_train)\n",
                "\n",
                "# make a prediction\n",
                "result = lre.predict(X_test)\n",
                "\n",
                "# evaluate the result\n",
                "print(\"Mean Absolute Error:\", mean_absolute_error(y_test, result))\n",
                "print(\"Mean Squared Error:\", mean_squared_error(y_test, result))\n",
                "print(\"Mean Squared Root Error:\", np.sqrt(mean_squared_error(y_test, result)))\n",
                "# abs(y_test - result)"
            ]
        },
        {
            "cell_type": "code",
            "execution_count": null,
            "metadata": {},
            "outputs": [],
            "source": [
                "# compare result\n",
                "print(pd.DataFrame({\"Actual\": y_test, \"Predict\": result}))"
            ]
        },
        {
            "cell_type": "code",
            "execution_count": null,
            "metadata": {},
            "outputs": [],
            "source": [
                "# print weight and coefficient\n",
                "print(lre.intercept_)\n",
                "print(lre.coef_)"
            ]
        },
        {
            "cell_type": "code",
            "execution_count": null,
            "metadata": {},
            "outputs": [],
            "source": [
                "# visualize the result\n",
                "plt.scatter(X_test[[\"citric acid\"]], y_test,\n",
                "            color=\"red\", label = \"Actual wine quality\")\n",
                "plt.scatter(X_test[[\"citric acid\"]], result,\n",
                "            color=\"yellow\", label = \"Actual wine quality\")\n",
                "plt.legend()\n",
                "plt.xlabel(\"Volatile Acidity\")"
            ]
        },
        {
            "cell_type": "markdown",
            "metadata": {},
            "source": [
                "## Question:\n",
                "1. Investigate an effect of testing size to model’s performance;\n",
                "2. Build a model to train and make a prediction for your selected dataset."
            ]
        },
        {
            "cell_type": "code",
            "execution_count": null,
            "metadata": {},
            "outputs": [],
            "source": [
                "X = wine_dataset.drop([\"quality\", \"pH\", \"alcohol\", \"residual sugar\"],\n",
                "                      axis=\"columns\")\n",
                "\n",
                "y = wine_dataset[\"quality\"]\n",
                "\n",
                "# split data\n",
                "X_train, X_test, y_train, y_test = train_test_split(X, y,\n",
                "                                                    test_size=0.25,\n",
                "                                                    random_state=1)"
            ]
        },
        {
            "cell_type": "code",
            "execution_count": null,
            "metadata": {},
            "outputs": [],
            "source": [
                "lre = LinearRegression()\n",
                "\n",
                "# train the model\n",
                "lre.fit(X_train, y_train)\n",
                "\n",
                "# make a prediction\n",
                "result = lre.predict(X_test)\n",
                "\n",
                "# evaluate the result\n",
                "print(\"Mean Absolute Error:\", mean_absolute_error(y_test, result))\n",
                "print(\"Mean Squared Error:\", mean_squared_error(y_test, result))\n",
                "print(\"Mean Squared Root Error:\", np.sqrt(mean_squared_error(y_test, result)))\n",
                "# abs(y_test - result)"
            ]
        },
        {
            "cell_type": "code",
            "execution_count": null,
            "metadata": {},
            "outputs": [],
            "source": [
                "# compare result\n",
                "compare = pd.DataFrame({\"Actual\": y_test, \"Predict\": result})\n",
                "compare[\"bias\"] = compare[\"Actual\"] - compare[\"Predict\"]\n",
                "print(compare)"
            ]
        },
        {
            "cell_type": "markdown",
            "metadata": {},
            "source": [
                "# Modified National Institute of Standards and Technology database (MNIST)\n",
                "## Using Logistic Regression to classify images of numbers in MNIST images"
            ]
        },
        {
            "cell_type": "code",
            "execution_count": null,
            "metadata": {},
            "outputs": [],
            "source": [
                "from sklearn.linear_model import LogisticRegression\n",
                "from sklearn.datasets import fetch_openml\n",
                "# from sklearn.datasets import load_digits\n",
                "\n",
                "# load images\n",
                "digits = fetch_openml(\"mnist_784\")\n",
                "\n",
                "# digits = load_digits()\n",
                "# print(digits.data.shape)"
            ]
        },
        {
            "cell_type": "code",
            "execution_count": null,
            "metadata": {},
            "outputs": [],
            "source": [
                "plt.gray() \n",
                "plt.matshow(digits.images[3]) \n",
                "plt.show() "
            ]
        },
        {
            "cell_type": "markdown",
            "metadata": {},
            "source": [
                "## 3 Exploring Data\n",
                "### 3.1 Show the image and data"
            ]
        },
        {
            "cell_type": "code",
            "execution_count": null,
            "metadata": {},
            "outputs": [],
            "source": [
                "plt.figure(figsize=(10,6))\n",
                "for index, (image, label) in enumerate(zip(digits.data[0:10],\n",
                "                                           digits.target[0:10])):\n",
                "    plt.subplot(2, 5, index + 1)\n",
                "    plt.imshow(np.reshape(image, (8, 8)), cmap=plt.cm.gray)\n",
                "    plt.title('Training: %i\\n' % int(label), fontsize = 15)"
            ]
        },
        {
            "cell_type": "markdown",
            "metadata": {},
            "source": [
                "### 3.2 Show the corresponding matrix"
            ]
        },
        {
            "cell_type": "code",
            "execution_count": null,
            "metadata": {},
            "outputs": [],
            "source": [
                "# show corresponding matrix\n",
                "digits.data[0]"
            ]
        },
        {
            "cell_type": "markdown",
            "metadata": {},
            "source": [
                "## 4 Build a Logistic model to classify MNIST images"
            ]
        },
        {
            "cell_type": "code",
            "execution_count": null,
            "metadata": {},
            "outputs": [],
            "source": [
                "from sklearn.metrics import confusion_matrix"
            ]
        },
        {
            "cell_type": "markdown",
            "metadata": {},
            "source": [
                "### 4.2 Step 1: Select target variable"
            ]
        },
        {
            "cell_type": "code",
            "execution_count": null,
            "metadata": {},
            "outputs": [],
            "source": [
                "y = digits.target\n",
                "y[0]"
            ]
        },
        {
            "cell_type": "markdown",
            "metadata": {},
            "source": [
                "### 4.3 Step 2: Prepare data"
            ]
        },
        {
            "cell_type": "code",
            "execution_count": null,
            "metadata": {},
            "outputs": [],
            "source": [
                "n_samples = len(digits.data)\n",
                "n_samples"
            ]
        },
        {
            "cell_type": "code",
            "execution_count": null,
            "metadata": {},
            "outputs": [],
            "source": [
                "X = digits.data\n",
                "X.shape"
            ]
        },
        {
            "cell_type": "code",
            "execution_count": null,
            "metadata": {},
            "outputs": [],
            "source": [
                "print(X)"
            ]
        },
        {
            "cell_type": "markdown",
            "metadata": {},
            "source": [
                "### 4.4 Step 3: Split dataset"
            ]
        },
        {
            "cell_type": "code",
            "execution_count": null,
            "metadata": {},
            "outputs": [],
            "source": [
                "X_train, X_test, y_train, y_test = train_test_split(X, y,\n",
                "                                                    test_size=0.25,\n",
                "                                                    random_state=1)"
            ]
        },
        {
            "cell_type": "markdown",
            "metadata": {},
            "source": [
                "### 4.5 Step 4: Select a Linear Regression classifier"
            ]
        },
        {
            "cell_type": "code",
            "execution_count": null,
            "metadata": {},
            "outputs": [],
            "source": [
                "lgr = LogisticRegression(solver = 'lbfgs', max_iter=5000)"
            ]
        },
        {
            "cell_type": "markdown",
            "metadata": {},
            "source": [
                "### 4.6 Step 5: Fit the data"
            ]
        },
        {
            "cell_type": "code",
            "execution_count": null,
            "metadata": {},
            "outputs": [],
            "source": [
                "lgr.fit(X_train, y_train)"
            ]
        },
        {
            "cell_type": "markdown",
            "metadata": {},
            "source": [
                "### 4.7 Step 6: Predict on test data"
            ]
        },
        {
            "cell_type": "code",
            "execution_count": null,
            "metadata": {},
            "outputs": [],
            "source": [
                "result = lgr.predict(X_test)"
            ]
        },
        {
            "cell_type": "markdown",
            "metadata": {},
            "source": [
                "### Measuring Model Performance:\n",
                "accuracy (fraction of correct predictions) =\n",
                "correct predictions / total number of data points"
            ]
        },
        {
            "cell_type": "code",
            "execution_count": null,
            "metadata": {},
            "outputs": [],
            "source": [
                "score = lgr.score(X_test, y_test)\n",
                "print(score)"
            ]
        },
        {
            "cell_type": "markdown",
            "metadata": {},
            "source": [
                "### 4.8 Step 7: Create confusion matrix"
            ]
        },
        {
            "cell_type": "code",
            "execution_count": null,
            "metadata": {},
            "outputs": [],
            "source": [
                "confusion_matrix(y_test, result)"
            ]
        },
        {
            "cell_type": "markdown",
            "metadata": {},
            "source": [
                "### 4.9 Visualize the prediction"
            ]
        },
        {
            "cell_type": "code",
            "execution_count": null,
            "metadata": {},
            "outputs": [],
            "source": [
                "images_and_predictions = list(zip(digits.data, lgr.predict(X)))"
            ]
        },
        {
            "cell_type": "code",
            "execution_count": null,
            "metadata": {},
            "outputs": [],
            "source": [
                "plt.figure(figsize=(10, 10))\n",
                "for index, (image, prediction) in enumerate(images_and_predictions[:20]):\n",
                "  plt.subplot(4, 5, index+1)\n",
                "  plt.axis(\"off\")\n",
                "  plt.imshow(np.reshape(image, (8,8)), cmap=plt.cm.gray_r,\n",
                "             interpolation='nearest')\n",
                "  plt.title('Prediction: %i' % int(prediction))\n",
                "plt.show()"
            ]
        },
        {
            "cell_type": "markdown",
            "metadata": {},
            "source": [
                "Display misclassified images:"
            ]
        },
        {
            "cell_type": "code",
            "execution_count": null,
            "metadata": {},
            "outputs": [],
            "source": [
                "index = 0\n",
                "misclassifiedIndexes = []\n",
                "for label, predict in zip(y_test, result):\n",
                "  if label != predict:\n",
                "    misclassifiedIndexes.append(index)\n",
                "  index += 1"
            ]
        },
        {
            "cell_type": "code",
            "execution_count": null,
            "metadata": {},
            "outputs": [],
            "source": [
                "plt.figure(figsize=(20,15))\n",
                "for plotIndex, badIndex in enumerate(misclassifiedIndexes[0:10]):\n",
                "  plt.subplot(4, 5, plotIndex + 1)\n",
                "  plt.axis(\"off\")\n",
                "  plt.imshow(np.reshape(X_test[badIndex], (8,8)), cmap=plt.cm.gray,\n",
                "             interpolation='nearest')\n",
                "  plt.title('Predicted: {}, Actual: {}'.format(result[badIndex], \n",
                "                                               y_test[badIndex]),\n",
                "                                               fontsize = 15)"
            ]
        }
    ],
    "metadata": {
        "interpreter": {
            "hash": "63fd5069d213b44bf678585dea6b12cceca9941eaf7f819626cde1f2670de90d"
        },
        "kernelspec": {
            "display_name": "Python 3.9.7 64-bit",
            "name": "python3"
        },
        "language_info": {
            "codemirror_mode": {
                "name": "ipython",
                "version": 3
            },
            "file_extension": ".py",
            "mimetype": "text/x-python",
            "name": "python",
            "nbconvert_exporter": "python",
            "pygments_lexer": "ipython3",
            "version": "3.9.7"
        },
        "orig_nbformat": 4
    },
    "nbformat": 4,
    "nbformat_minor": 2
}
